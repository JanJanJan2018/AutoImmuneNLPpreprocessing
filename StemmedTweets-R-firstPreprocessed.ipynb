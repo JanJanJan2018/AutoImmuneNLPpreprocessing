{
 "cells": [
  {
   "cell_type": "markdown",
   "metadata": {},
   "source": [
    "## Autoimmune Tweets using the mostly preprocessed file from R and testing on Stemmed Tweets with 8 categories of autoimmune diseases\n",
    "Those being: \n",
    "0:Leukemia, 1: Fibromyalgia, 2:Kidney Disease, 3: Celiac Disease, 4: MS, 5: Hashimoto, 6: RA, 7: Chron's Disease"
   ]
  },
  {
   "cell_type": "markdown",
   "metadata": {},
   "source": [
    "Tweets were taken from respective diseases in early December 2019 from 13 to 119 \n",
    "tweets for each disease, as many as were found that weren't mostly marketing, using ''<disease> treatment' in the search"
   ]
  },
  {
   "cell_type": "code",
   "execution_count": 1,
   "metadata": {},
   "outputs": [],
   "source": [
    "%matplotlib inline \n",
    "import pandas as pd \n",
    "import matplotlib.pyplot as plt \n",
    "from textblob import TextBlob \n",
    "import sklearn \n",
    "import numpy as np \n",
    "from sklearn.feature_extraction.text import CountVectorizer \n",
    "from sklearn.naive_bayes import MultinomialNB \n",
    "from sklearn.metrics import classification_report, f1_score, accuracy_score, confusion_matrix \n",
    " \n",
    "np.random.seed(47) \n",
    " \n"
   ]
  },
  {
   "cell_type": "code",
   "execution_count": 2,
   "metadata": {},
   "outputs": [],
   "source": [
    "reviews = pd.read_csv('LemmaPythonRead.csv', encoding = 'unicode_escape') \n",
    "#the encoding needed for python3 handling nonASCII chars\n"
   ]
  },
  {
   "cell_type": "code",
   "execution_count": 3,
   "metadata": {},
   "outputs": [
    {
     "data": {
      "text/html": [
       "<div>\n",
       "<style scoped>\n",
       "    .dataframe tbody tr th:only-of-type {\n",
       "        vertical-align: middle;\n",
       "    }\n",
       "\n",
       "    .dataframe tbody tr th {\n",
       "        vertical-align: top;\n",
       "    }\n",
       "\n",
       "    .dataframe thead th {\n",
       "        text-align: right;\n",
       "    }\n",
       "</style>\n",
       "<table border=\"1\" class=\"dataframe\">\n",
       "  <thead>\n",
       "    <tr style=\"text-align: right;\">\n",
       "      <th></th>\n",
       "      <th>LemmatizedTweets</th>\n",
       "      <th>StemmedTweets</th>\n",
       "      <th>AutoImmuneDisorder</th>\n",
       "    </tr>\n",
       "  </thead>\n",
       "  <tbody>\n",
       "    <tr>\n",
       "      <td>0</td>\n",
       "      <td>unknown research unknownresearch the center fo...</td>\n",
       "      <td>unknown research\\r\\nunknownresearch\\r\\nthe cen...</td>\n",
       "      <td>Celiac_Disease</td>\n",
       "    </tr>\n",
       "    <tr>\n",
       "      <td>1</td>\n",
       "      <td>lynn barter abc mc lbarter · dec reply to thre...</td>\n",
       "      <td>lynn barter abc mc\\r\\nlbarter\\r\\n·\\r\\ndec \\r\\n...</td>\n",
       "      <td>Celiac_Disease</td>\n",
       "    </tr>\n",
       "    <tr>\n",
       "      <td>2</td>\n",
       "      <td>theona layne theonawrites · dec unknown diseas...</td>\n",
       "      <td>theona layne\\r\\ntheonawrites\\r\\n·\\r\\ndec \\r\\nu...</td>\n",
       "      <td>Celiac_Disease</td>\n",
       "    </tr>\n",
       "    <tr>\n",
       "      <td>3</td>\n",
       "      <td>bob simonoff simonoffbob · dec there be eviden...</td>\n",
       "      <td>bob simonoff\\r\\nsimonoffbob\\r\\n·\\r\\ndec \\r\\nth...</td>\n",
       "      <td>Celiac_Disease</td>\n",
       "    </tr>\n",
       "    <tr>\n",
       "      <td>4</td>\n",
       "      <td>gfdenver gfdenver · nov hm interest research n...</td>\n",
       "      <td>gfdenver\\r\\ngfdenver\\r\\n·\\r\\nnov \\r\\nhm intere...</td>\n",
       "      <td>Celiac_Disease</td>\n",
       "    </tr>\n",
       "  </tbody>\n",
       "</table>\n",
       "</div>"
      ],
      "text/plain": [
       "                                    LemmatizedTweets  \\\n",
       "0  unknown research unknownresearch the center fo...   \n",
       "1  lynn barter abc mc lbarter · dec reply to thre...   \n",
       "2  theona layne theonawrites · dec unknown diseas...   \n",
       "3  bob simonoff simonoffbob · dec there be eviden...   \n",
       "4  gfdenver gfdenver · nov hm interest research n...   \n",
       "\n",
       "                                       StemmedTweets AutoImmuneDisorder  \n",
       "0  unknown research\\r\\nunknownresearch\\r\\nthe cen...     Celiac_Disease  \n",
       "1  lynn barter abc mc\\r\\nlbarter\\r\\n·\\r\\ndec \\r\\n...     Celiac_Disease  \n",
       "2  theona layne\\r\\ntheonawrites\\r\\n·\\r\\ndec \\r\\nu...     Celiac_Disease  \n",
       "3  bob simonoff\\r\\nsimonoffbob\\r\\n·\\r\\ndec \\r\\nth...     Celiac_Disease  \n",
       "4  gfdenver\\r\\ngfdenver\\r\\n·\\r\\nnov \\r\\nhm intere...     Celiac_Disease  "
      ]
     },
     "execution_count": 3,
     "metadata": {},
     "output_type": "execute_result"
    }
   ],
   "source": [
    "reviews.head()\n"
   ]
  },
  {
   "cell_type": "code",
   "execution_count": 4,
   "metadata": {},
   "outputs": [
    {
     "data": {
      "text/html": [
       "<div>\n",
       "<style scoped>\n",
       "    .dataframe tbody tr th:only-of-type {\n",
       "        vertical-align: middle;\n",
       "    }\n",
       "\n",
       "    .dataframe tbody tr th {\n",
       "        vertical-align: top;\n",
       "    }\n",
       "\n",
       "    .dataframe thead th {\n",
       "        text-align: right;\n",
       "    }\n",
       "</style>\n",
       "<table border=\"1\" class=\"dataframe\">\n",
       "  <thead>\n",
       "    <tr style=\"text-align: right;\">\n",
       "      <th></th>\n",
       "      <th>LemmatizedTweets</th>\n",
       "      <th>StemmedTweets</th>\n",
       "      <th>AutoImmuneDisorder</th>\n",
       "    </tr>\n",
       "  </thead>\n",
       "  <tbody>\n",
       "    <tr>\n",
       "      <td>502</td>\n",
       "      <td>pharmabot thepharmabot · nov codessly effectiv...</td>\n",
       "      <td>pharmabot\\r\\nthepharmabot\\r\\n·\\r\\nnov \\r\\ncode...</td>\n",
       "      <td>Leukemia_Disease</td>\n",
       "    </tr>\n",
       "    <tr>\n",
       "      <td>503</td>\n",
       "      <td>wcm lymphoma wcmclymphoma · dec select initial...</td>\n",
       "      <td>wcm lymphoma\\r\\nwcmclymphoma\\r\\n·\\r\\ndec \\r\\ns...</td>\n",
       "      <td>Leukemia_Disease</td>\n",
       "    </tr>\n",
       "    <tr>\n",
       "      <td>504</td>\n",
       "      <td>medivizor medivizor · dec cope with cml check ...</td>\n",
       "      <td>medivizor\\r\\nmedivizor\\r\\n·\\r\\ndec \\r\\ncoping ...</td>\n",
       "      <td>Leukemia_Disease</td>\n",
       "    </tr>\n",
       "    <tr>\n",
       "      <td>505</td>\n",
       "      <td>abi brokenleadheart · dec reply to rickyspurs ...</td>\n",
       "      <td>abi\\r\\nbrokenleadheart\\r\\n·\\r\\ndec \\r\\nreplyin...</td>\n",
       "      <td>Leukemia_Disease</td>\n",
       "    </tr>\n",
       "    <tr>\n",
       "      <td>506</td>\n",
       "      <td>brooke xbrooke · dec reply to itsjojosiwa dear...</td>\n",
       "      <td>brooke\\r\\n\\r\\n\\r\\nxbrooke\\r\\n·\\r\\ndec \\r\\nrepl...</td>\n",
       "      <td>Leukemia_Disease</td>\n",
       "    </tr>\n",
       "  </tbody>\n",
       "</table>\n",
       "</div>"
      ],
      "text/plain": [
       "                                      LemmatizedTweets  \\\n",
       "502  pharmabot thepharmabot · nov codessly effectiv...   \n",
       "503  wcm lymphoma wcmclymphoma · dec select initial...   \n",
       "504  medivizor medivizor · dec cope with cml check ...   \n",
       "505  abi brokenleadheart · dec reply to rickyspurs ...   \n",
       "506  brooke xbrooke · dec reply to itsjojosiwa dear...   \n",
       "\n",
       "                                         StemmedTweets AutoImmuneDisorder  \n",
       "502  pharmabot\\r\\nthepharmabot\\r\\n·\\r\\nnov \\r\\ncode...   Leukemia_Disease  \n",
       "503  wcm lymphoma\\r\\nwcmclymphoma\\r\\n·\\r\\ndec \\r\\ns...   Leukemia_Disease  \n",
       "504  medivizor\\r\\nmedivizor\\r\\n·\\r\\ndec \\r\\ncoping ...   Leukemia_Disease  \n",
       "505  abi\\r\\nbrokenleadheart\\r\\n·\\r\\ndec \\r\\nreplyin...   Leukemia_Disease  \n",
       "506  brooke\\r\\n\\r\\n\\r\\nxbrooke\\r\\n·\\r\\ndec \\r\\nrepl...   Leukemia_Disease  "
      ]
     },
     "execution_count": 4,
     "metadata": {},
     "output_type": "execute_result"
    }
   ],
   "source": [
    "reviews.tail()"
   ]
  },
  {
   "cell_type": "code",
   "execution_count": 5,
   "metadata": {},
   "outputs": [
    {
     "data": {
      "text/plain": [
       "(507, 3)"
      ]
     },
     "execution_count": 5,
     "metadata": {},
     "output_type": "execute_result"
    }
   ],
   "source": [
    "reviews.shape"
   ]
  },
  {
   "cell_type": "code",
   "execution_count": 6,
   "metadata": {},
   "outputs": [
    {
     "name": "stdout",
     "output_type": "stream",
     "text": [
      "                                      LemmatizedTweets  \\\n",
      "407  medivizor medivizor · nov cope with cml check ...   \n",
      "196  medical news bulletin mednewsbulletin · jun a ...   \n",
      "359  drtharanga kumari wickramasooriya drtharanga ·...   \n",
      "39   nola unknown unknowndiary · sep reply to nolan...   \n",
      "245  christine blome blomechristine · jan our new t...   \n",
      "\n",
      "                                         StemmedTweets AutoImmuneDisorder  \n",
      "407  medivizor\\r\\nmedivizor\\r\\n·\\r\\nnov \\r\\ncoping ...   Leukemia_Disease  \n",
      "196  medical news bulletin\\r\\nmednewsbulletin\\r\\n·\\...       Fibromyalgia  \n",
      "359  drtharanga kumari wickramasooriya\\r\\ndrtharang...     Kidney_Disease  \n",
      "39   nola unknown\\r\\nunknowndiary\\r\\n·\\r\\nsep  \\r\\n...     Celiac_Disease  \n",
      "245  christine blome\\r\\nblomechristine\\r\\n·\\r\\njan ...         MS_Disease  \n",
      "                                      LemmatizedTweets  \\\n",
      "72   r unknownunknown runknownunknown · h chronic o...   \n",
      "264  lorilynn lorilynn · nov multiple unknown be a ...   \n",
      "327  unknown guild theunknownguild · nov fridayfin...   \n",
      "390  drug topic drugtopics · dec the fda have appro...   \n",
      "135  fms news bot fmsbot · nov unknown treatment ma...   \n",
      "\n",
      "                                         StemmedTweets AutoImmuneDisorder  \n",
      "72   r unknownunknown\\r\\nrunknownunknown\\r\\n·\\r\\nh\\...  Hashimoto_Disease  \n",
      "264  lorilynn\\r\\nlorilynn\\r\\n·\\r\\nnov \\r\\nmultiple ...         MS_Disease  \n",
      "327  unknown guild\\r\\ntheunknownguild\\r\\n·\\r\\nnov ...         MS_Disease  \n",
      "390  drug topics\\r\\ndrugtopics\\r\\n·\\r\\ndec \\r\\nthe ...   Leukemia_Disease  \n",
      "135  fms news bot\\r\\nfmsbot\\r\\n·\\r\\nnov \\r\\nunknown...       Fibromyalgia  \n"
     ]
    }
   ],
   "source": [
    "reviews = reviews.reindex(np.random.permutation(reviews.index))\n",
    "\n",
    "print(reviews.head())\n",
    "print(reviews.tail())"
   ]
  },
  {
   "cell_type": "code",
   "execution_count": 7,
   "metadata": {},
   "outputs": [
    {
     "data": {
      "text/html": [
       "<div>\n",
       "<style scoped>\n",
       "    .dataframe tbody tr th:only-of-type {\n",
       "        vertical-align: middle;\n",
       "    }\n",
       "\n",
       "    .dataframe tbody tr th {\n",
       "        vertical-align: top;\n",
       "    }\n",
       "\n",
       "    .dataframe thead tr th {\n",
       "        text-align: left;\n",
       "    }\n",
       "\n",
       "    .dataframe thead tr:last-of-type th {\n",
       "        text-align: right;\n",
       "    }\n",
       "</style>\n",
       "<table border=\"1\" class=\"dataframe\">\n",
       "  <thead>\n",
       "    <tr>\n",
       "      <th></th>\n",
       "      <th colspan=\"4\" halign=\"left\">LemmatizedTweets</th>\n",
       "      <th colspan=\"4\" halign=\"left\">StemmedTweets</th>\n",
       "    </tr>\n",
       "    <tr>\n",
       "      <th></th>\n",
       "      <th>count</th>\n",
       "      <th>unique</th>\n",
       "      <th>top</th>\n",
       "      <th>freq</th>\n",
       "      <th>count</th>\n",
       "      <th>unique</th>\n",
       "      <th>top</th>\n",
       "      <th>freq</th>\n",
       "    </tr>\n",
       "    <tr>\n",
       "      <th>AutoImmuneDisorder</th>\n",
       "      <th></th>\n",
       "      <th></th>\n",
       "      <th></th>\n",
       "      <th></th>\n",
       "      <th></th>\n",
       "      <th></th>\n",
       "      <th></th>\n",
       "      <th></th>\n",
       "    </tr>\n",
       "  </thead>\n",
       "  <tbody>\n",
       "    <tr>\n",
       "      <td>Celiac_Disease</td>\n",
       "      <td>50</td>\n",
       "      <td>50</td>\n",
       "      <td>blake parson blakepparsons · dec need help for...</td>\n",
       "      <td>1</td>\n",
       "      <td>50</td>\n",
       "      <td>50</td>\n",
       "      <td>\\r\\n\\r\\n\\r\\n\\r\\n\\r\\ndrjonnys\\r\\n·\\r\\ndec \\...</td>\n",
       "      <td>1</td>\n",
       "    </tr>\n",
       "    <tr>\n",
       "      <td>Chron_Disease</td>\n",
       "      <td>19</td>\n",
       "      <td>19</td>\n",
       "      <td>jason lamplough jasesum · apr chrons treatment...</td>\n",
       "      <td>1</td>\n",
       "      <td>19</td>\n",
       "      <td>19</td>\n",
       "      <td>thomas and ethel bakery\\r\\n\\r\\n\\r\\n\\r\\n\\r\\ntho...</td>\n",
       "      <td>1</td>\n",
       "    </tr>\n",
       "    <tr>\n",
       "      <td>Fibromyalgia</td>\n",
       "      <td>99</td>\n",
       "      <td>95</td>\n",
       "      <td>fibro bloggers fibrobloggers · nov unknown can...</td>\n",
       "      <td>2</td>\n",
       "      <td>99</td>\n",
       "      <td>95</td>\n",
       "      <td>fibro bloggers\\r\\nfibrobloggers\\r\\n·\\r\\nnov \\r...</td>\n",
       "      <td>2</td>\n",
       "    </tr>\n",
       "    <tr>\n",
       "      <td>Hashimoto_Disease</td>\n",
       "      <td>30</td>\n",
       "      <td>29</td>\n",
       "      <td>colorado natural med drgravesco · dec naturopa...</td>\n",
       "      <td>2</td>\n",
       "      <td>30</td>\n",
       "      <td>29</td>\n",
       "      <td>colorado natural med\\r\\ndrgravesco\\r\\n·\\r\\ndec...</td>\n",
       "      <td>2</td>\n",
       "    </tr>\n",
       "    <tr>\n",
       "      <td>Kidney_Disease</td>\n",
       "      <td>43</td>\n",
       "      <td>43</td>\n",
       "      <td>jay stand for jayakrishna lithiumca · nov repl...</td>\n",
       "      <td>1</td>\n",
       "      <td>43</td>\n",
       "      <td>43</td>\n",
       "      <td>clinicaltrialsdata\\r\\ndatatrials\\r\\n·\\r\\ndec \\...</td>\n",
       "      <td>1</td>\n",
       "    </tr>\n",
       "    <tr>\n",
       "      <td>Leukemia_Disease</td>\n",
       "      <td>119</td>\n",
       "      <td>116</td>\n",
       "      <td>medivizor medivizor · nov cope with cml check ...</td>\n",
       "      <td>3</td>\n",
       "      <td>119</td>\n",
       "      <td>116</td>\n",
       "      <td>medivizor\\r\\nmedivizor\\r\\n·\\r\\nnov \\r\\ncoping ...</td>\n",
       "      <td>3</td>\n",
       "    </tr>\n",
       "    <tr>\n",
       "      <td>MS_Disease</td>\n",
       "      <td>119</td>\n",
       "      <td>119</td>\n",
       "      <td>the richard rise report therrreport · nov rela...</td>\n",
       "      <td>1</td>\n",
       "      <td>119</td>\n",
       "      <td>119</td>\n",
       "      <td>austin chronicle\\r\\naustinchronicle\\r\\n·\\r\\nma...</td>\n",
       "      <td>1</td>\n",
       "    </tr>\n",
       "    <tr>\n",
       "      <td>RA_Disease</td>\n",
       "      <td>28</td>\n",
       "      <td>28</td>\n",
       "      <td>homeopathyinfo safehomeopathy · nov unknown un...</td>\n",
       "      <td>1</td>\n",
       "      <td>28</td>\n",
       "      <td>28</td>\n",
       "      <td>unknown news\\r\\nunknownbio\\r\\n·\\r\\nnov \\r\\ntoc...</td>\n",
       "      <td>1</td>\n",
       "    </tr>\n",
       "  </tbody>\n",
       "</table>\n",
       "</div>"
      ],
      "text/plain": [
       "                   LemmatizedTweets         \\\n",
       "                              count unique   \n",
       "AutoImmuneDisorder                           \n",
       "Celiac_Disease                   50     50   \n",
       "Chron_Disease                    19     19   \n",
       "Fibromyalgia                     99     95   \n",
       "Hashimoto_Disease                30     29   \n",
       "Kidney_Disease                   43     43   \n",
       "Leukemia_Disease                119    116   \n",
       "MS_Disease                      119    119   \n",
       "RA_Disease                       28     28   \n",
       "\n",
       "                                                                            \\\n",
       "                                                                  top freq   \n",
       "AutoImmuneDisorder                                                           \n",
       "Celiac_Disease      blake parson blakepparsons · dec need help for...    1   \n",
       "Chron_Disease       jason lamplough jasesum · apr chrons treatment...    1   \n",
       "Fibromyalgia        fibro bloggers fibrobloggers · nov unknown can...    2   \n",
       "Hashimoto_Disease   colorado natural med drgravesco · dec naturopa...    2   \n",
       "Kidney_Disease      jay stand for jayakrishna lithiumca · nov repl...    1   \n",
       "Leukemia_Disease    medivizor medivizor · nov cope with cml check ...    3   \n",
       "MS_Disease          the richard rise report therrreport · nov rela...    1   \n",
       "RA_Disease          homeopathyinfo safehomeopathy · nov unknown un...    1   \n",
       "\n",
       "                   StemmedTweets         \\\n",
       "                           count unique   \n",
       "AutoImmuneDisorder                        \n",
       "Celiac_Disease                50     50   \n",
       "Chron_Disease                 19     19   \n",
       "Fibromyalgia                  99     95   \n",
       "Hashimoto_Disease             30     29   \n",
       "Kidney_Disease                43     43   \n",
       "Leukemia_Disease             119    116   \n",
       "MS_Disease                   119    119   \n",
       "RA_Disease                    28     28   \n",
       "\n",
       "                                                                            \n",
       "                                                                  top freq  \n",
       "AutoImmuneDisorder                                                          \n",
       "Celiac_Disease          \\r\\n\\r\\n\\r\\n\\r\\n\\r\\ndrjonnys\\r\\n·\\r\\ndec \\...    1  \n",
       "Chron_Disease       thomas and ethel bakery\\r\\n\\r\\n\\r\\n\\r\\n\\r\\ntho...    1  \n",
       "Fibromyalgia        fibro bloggers\\r\\nfibrobloggers\\r\\n·\\r\\nnov \\r...    2  \n",
       "Hashimoto_Disease   colorado natural med\\r\\ndrgravesco\\r\\n·\\r\\ndec...    2  \n",
       "Kidney_Disease      clinicaltrialsdata\\r\\ndatatrials\\r\\n·\\r\\ndec \\...    1  \n",
       "Leukemia_Disease    medivizor\\r\\nmedivizor\\r\\n·\\r\\nnov \\r\\ncoping ...    3  \n",
       "MS_Disease          austin chronicle\\r\\naustinchronicle\\r\\n·\\r\\nma...    1  \n",
       "RA_Disease          unknown news\\r\\nunknownbio\\r\\n·\\r\\nnov \\r\\ntoc...    1  "
      ]
     },
     "execution_count": 7,
     "metadata": {},
     "output_type": "execute_result"
    }
   ],
   "source": [
    "\n",
    "\n",
    "reviews.groupby('AutoImmuneDisorder').describe()\n",
    "\n"
   ]
  },
  {
   "cell_type": "code",
   "execution_count": 9,
   "metadata": {},
   "outputs": [
    {
     "name": "stdout",
     "output_type": "stream",
     "text": [
      "                                      LemmatizedTweets  \\\n",
      "407  medivizor medivizor · nov cope with cml check ...   \n",
      "196  medical news bulletin mednewsbulletin · jun a ...   \n",
      "359  drtharanga kumari wickramasooriya drtharanga ·...   \n",
      "39   nola unknown unknowndiary · sep reply to nolan...   \n",
      "245  christine blome blomechristine · jan our new t...   \n",
      "\n",
      "                                         StemmedTweets AutoImmuneDisorder  \\\n",
      "407  medivizor\\r\\nmedivizor\\r\\n·\\r\\nnov \\r\\ncoping ...   Leukemia_Disease   \n",
      "196  medical news bulletin\\r\\nmednewsbulletin\\r\\n·\\...       Fibromyalgia   \n",
      "359  drtharanga kumari wickramasooriya\\r\\ndrtharang...     Kidney_Disease   \n",
      "39   nola unknown\\r\\nunknowndiary\\r\\n·\\r\\nsep  \\r\\n...     Celiac_Disease   \n",
      "245  christine blome\\r\\nblomechristine\\r\\n·\\r\\njan ...         MS_Disease   \n",
      "\n",
      "     length  \n",
      "407     140  \n",
      "196     256  \n",
      "359     328  \n",
      "39      337  \n",
      "245     203  \n"
     ]
    }
   ],
   "source": [
    "\n",
    "\n",
    "reviews['length'] = reviews['StemmedTweets'].map(lambda text: len(text))\n",
    "print(reviews.head())\n",
    "\n"
   ]
  },
  {
   "cell_type": "code",
   "execution_count": 10,
   "metadata": {},
   "outputs": [
    {
     "data": {
      "text/plain": [
       "<matplotlib.axes._subplots.AxesSubplot at 0x195683d16d8>"
      ]
     },
     "execution_count": 10,
     "metadata": {},
     "output_type": "execute_result"
    },
    {
     "data": {
      "image/png": "[encoded data removed]",
      "text/plain": [
       "<Figure size 432x288 with 1 Axes>"
      ]
     },
     "metadata": {
      "needs_background": "light"
     },
     "output_type": "display_data"
    }
   ],
   "source": [
    "reviews.length.plot(bins=20, kind='hist') "
   ]
  },
  {
   "cell_type": "code",
   "execution_count": 11,
   "metadata": {},
   "outputs": [
    {
     "data": {
      "text/plain": [
       "count    507.000000\n",
       "mean     258.960552\n",
       "std       97.788402\n",
       "min       83.000000\n",
       "25%      188.000000\n",
       "50%      258.000000\n",
       "75%      304.000000\n",
       "max      678.000000\n",
       "Name: length, dtype: float64"
      ]
     },
     "execution_count": 11,
     "metadata": {},
     "output_type": "execute_result"
    }
   ],
   "source": [
    "reviews.length.describe()"
   ]
  },
  {
   "cell_type": "code",
   "execution_count": 12,
   "metadata": {},
   "outputs": [
    {
     "name": "stdout",
     "output_type": "stream",
     "text": [
      "[75, 432, 105, 104, 176, 58, 129, 174, 145, 193, 26, 82, 109, 111, 99, 167, 149]\n",
      "['Hashimoto_Disease', 'Leukemia_Disease', 'Fibromyalgia', 'Fibromyalgia', 'Fibromyalgia', 'Hashimoto_Disease', 'Fibromyalgia', 'Fibromyalgia', 'Fibromyalgia', 'Fibromyalgia', 'Celiac_Disease', 'Chron_Disease', 'Fibromyalgia', 'Fibromyalgia', 'Fibromyalgia', 'Fibromyalgia', 'Fibromyalgia']\n"
     ]
    }
   ],
   "source": [
    "print(list(reviews.StemmedTweets[reviews.length > 500].index)) #near the max for length of LemmatizedTweets\n",
    "print(list(reviews.AutoImmuneDisorder[reviews.length > 500]))"
   ]
  },
  {
   "cell_type": "code",
   "execution_count": 18,
   "metadata": {},
   "outputs": [
    {
     "name": "stdout",
     "output_type": "stream",
     "text": [
      "Wall time: 422 ms\n"
     ]
    },
    {
     "data": {
      "text/plain": [
       "array([[<matplotlib.axes._subplots.AxesSubplot object at 0x000001A3AF552C18>,\n",
       "        <matplotlib.axes._subplots.AxesSubplot object at 0x000001A3AF624F28>,\n",
       "        <matplotlib.axes._subplots.AxesSubplot object at 0x000001A3AF6604A8>],\n",
       "       [<matplotlib.axes._subplots.AxesSubplot object at 0x000001A3AF691A58>,\n",
       "        <matplotlib.axes._subplots.AxesSubplot object at 0x000001A3AF6CF048>,\n",
       "        <matplotlib.axes._subplots.AxesSubplot object at 0x000001A3AF6FF5F8>],\n",
       "       [<matplotlib.axes._subplots.AxesSubplot object at 0x000001A3AF731BA8>,\n",
       "        <matplotlib.axes._subplots.AxesSubplot object at 0x000001A3AF76F1D0>,\n",
       "        <matplotlib.axes._subplots.AxesSubplot object at 0x000001A3AF76F208>]],\n",
       "      dtype=object)"
      ]
     },
     "execution_count": 18,
     "metadata": {},
     "output_type": "execute_result"
    },
    {
     "data": {
      "image/png": "[encoded data removed]",
      "text/plain": [
       "<Figure size 432x288 with 9 Axes>"
      ]
     },
     "metadata": {
      "needs_background": "light"
     },
     "output_type": "display_data"
    }
   ],
   "source": [
    "%%time\n",
    "reviews.hist(column='length', by='AutoImmuneDisorder', bins=10)"
   ]
  },
  {
   "cell_type": "code",
   "execution_count": 13,
   "metadata": {},
   "outputs": [],
   "source": [
    "def split_into_tokens(review):\n",
    "    \n",
    "    #review = unicode(review, 'iso-8859-1')# in python 3 the default of str() previously python2 as unicode() is utf-8\n",
    "    return TextBlob(review).words"
   ]
  },
  {
   "cell_type": "code",
   "execution_count": 14,
   "metadata": {},
   "outputs": [
    {
     "data": {
      "text/plain": [
       "407    [medivizor, medivizor, ·, nov, coping, with, c...\n",
       "196    [medical, news, bulletin, mednewsbulletin, ·, ...\n",
       "359    [drtharanga, kumari, wickramasooriya, drtharan...\n",
       "39     [nola, unknown, unknowndiary, ·, sep, replying...\n",
       "245    [christine, blome, blomechristine, ·, jan, our...\n",
       "Name: StemmedTweets, dtype: object"
      ]
     },
     "execution_count": 14,
     "metadata": {},
     "output_type": "execute_result"
    }
   ],
   "source": [
    "\n",
    "\n",
    "reviews.StemmedTweets.head().apply(split_into_tokens)\n",
    "\n"
   ]
  },
  {
   "cell_type": "code",
   "execution_count": 15,
   "metadata": {},
   "outputs": [
    {
     "data": {
      "text/plain": [
       "[('hello', 'JJ'),\n",
       " ('world', 'NN'),\n",
       " ('how', 'WRB'),\n",
       " ('is', 'VBZ'),\n",
       " ('it', 'PRP'),\n",
       " ('going', 'VBG')]"
      ]
     },
     "execution_count": 15,
     "metadata": {},
     "output_type": "execute_result"
    }
   ],
   "source": [
    "TextBlob(\"hello world, how is it going?\").tags"
   ]
  },
  {
   "cell_type": "code",
   "execution_count": 16,
   "metadata": {},
   "outputs": [
    {
     "name": "stderr",
     "output_type": "stream",
     "text": [
      "[nltk_data] Downloading package stopwords to\n",
      "[nltk_data]     C:\\Users\\m\\AppData\\Roaming\\nltk_data...\n",
      "[nltk_data]   Package stopwords is already up-to-date!\n"
     ]
    },
    {
     "data": {
      "text/plain": [
       "True"
      ]
     },
     "execution_count": 16,
     "metadata": {},
     "output_type": "execute_result"
    }
   ],
   "source": [
    "\n",
    "\n",
    "import nltk\n",
    "nltk.download('stopwords')\n",
    "\n"
   ]
  },
  {
   "cell_type": "code",
   "execution_count": 17,
   "metadata": {},
   "outputs": [],
   "source": [
    "from nltk.corpus import stopwords\n",
    "\n",
    "stop = stopwords.words('english')\n",
    "stop = stop + [u'a',u'b',u'c',u'd',u'e',u'f',u'g',u'h',u'i',u'j',u'k',u'l',u'm',u'n',u'o',u'p',u'q',u'r',u's',u't',u'v',u'w',u'x',u'y',u'z']"
   ]
  },
  {
   "cell_type": "code",
   "execution_count": 18,
   "metadata": {},
   "outputs": [
    {
     "data": {
      "text/plain": [
       "407    [medivizor, medivizor, ·, nov, coping, cml, ch...\n",
       "196    [medical, news, bulletin, mednewsbulletin, ·, ...\n",
       "359    [drtharanga, kumari, wickramasooriya, drtharan...\n",
       "39     [nola, unknown, unknowndiary, ·, sep, replying...\n",
       "245    [christine, blome, blomechristine, ·, jan, new...\n",
       "Name: StemmedTweets, dtype: object"
      ]
     },
     "execution_count": 18,
     "metadata": {},
     "output_type": "execute_result"
    }
   ],
   "source": [
    "def split_into_lemmas(review):\n",
    "    #review = unicode(review, 'iso-8859-1')\n",
    "    review = review.lower()\n",
    "    #review = unicode(review, 'utf8').lower()\n",
    "    #review = str(review).lower()\n",
    "    words = TextBlob(review).words\n",
    "    # for each word, take its \"base form\" = lemma \n",
    "    return [word.lemma for word in words if word not in stop]\n",
    "\n",
    "reviews.StemmedTweets.head().apply(split_into_lemmas)"
   ]
  },
  {
   "cell_type": "code",
   "execution_count": 19,
   "metadata": {},
   "outputs": [
    {
     "name": "stdout",
     "output_type": "stream",
     "text": [
      "8\n",
      "Wall time: 234 ms\n"
     ]
    }
   ],
   "source": [
    "\n",
    "\n",
    "%%time\n",
    "bow_transformer = CountVectorizer(analyzer=split_into_lemmas).fit(reviews['AutoImmuneDisorder'])\n",
    "print(len(bow_transformer.vocabulary_))\n",
    "\n"
   ]
  },
  {
   "cell_type": "code",
   "execution_count": 20,
   "metadata": {},
   "outputs": [
    {
     "name": "stdout",
     "output_type": "stream",
     "text": [
      "purna\r\n",
      "purnamusic\r\n",
      "·\r\n",
      "jun  \r\n",
      "gluten shouldnt be so painful no sleep night two advice tried antihistamines ginger tea ibuprofen and activated charcoal over the last  hours unknown treatment\n"
     ]
    }
   ],
   "source": [
    "review4 = reviews['StemmedTweets'][42]\n",
    "print(review4)"
   ]
  },
  {
   "cell_type": "code",
   "execution_count": 21,
   "metadata": {},
   "outputs": [
    {
     "name": "stdout",
     "output_type": "stream",
     "text": [
      "\n"
     ]
    }
   ],
   "source": [
    "\n",
    "\n",
    "bow4 = bow_transformer.transform([review4])\n",
    "print(bow4)\n",
    "\n"
   ]
  },
  {
   "cell_type": "code",
   "execution_count": 22,
   "metadata": {},
   "outputs": [
    {
     "name": "stdout",
     "output_type": "stream",
     "text": [
      "sparse matrix shape: (507, 8)\n",
      "number of non-zeros: 2\n",
      "sparsity: 0.05%\n",
      "Wall time: 688 ms\n"
     ]
    }
   ],
   "source": [
    "%%time\n",
    "reviews_bow = bow_transformer.transform(reviews['StemmedTweets'])\n",
    "print('sparse matrix shape:', reviews_bow.shape)\n",
    "print('number of non-zeros:', reviews_bow.nnz)\n",
    "print('sparsity: %.2f%%' % (100.0 * reviews_bow.nnz / (reviews_bow.shape[0] * reviews_bow.shape[1])))"
   ]
  },
  {
   "cell_type": "code",
   "execution_count": 23,
   "metadata": {},
   "outputs": [
    {
     "name": "stdout",
     "output_type": "stream",
     "text": [
      "(400, 8)\n",
      "(107, 8)\n"
     ]
    }
   ],
   "source": [
    "\n",
    "\n",
    "# Split/splice into training ~ 80% and testing ~ 20%\n",
    "reviews_bow_train = reviews_bow[:400]\n",
    "reviews_bow_test = reviews_bow[400:]\n",
    "reviews_sentiment_train = reviews['AutoImmuneDisorder'][:400]\n",
    "reviews_sentiment_test = reviews['AutoImmuneDisorder'][400:]\n",
    "\n",
    "print(reviews_bow_train.shape)\n",
    "print(reviews_bow_test.shape)\n",
    "\n"
   ]
  },
  {
   "cell_type": "code",
   "execution_count": 24,
   "metadata": {},
   "outputs": [
    {
     "name": "stdout",
     "output_type": "stream",
     "text": [
      "Wall time: 0 ns\n"
     ]
    }
   ],
   "source": [
    "\n",
    "\n",
    "%time review_sentiment = MultinomialNB().fit(reviews_bow_train, reviews_sentiment_train)\n",
    "\n"
   ]
  },
  {
   "cell_type": "code",
   "execution_count": 25,
   "metadata": {},
   "outputs": [
    {
     "name": "stdout",
     "output_type": "stream",
     "text": [
      "predicted: Leukemia_Disease\n",
      "expected: Celiac_Disease\n"
     ]
    }
   ],
   "source": [
    "\n",
    "\n",
    "print('predicted:', review_sentiment.predict(bow4)[0])\n",
    "print('expected:', reviews.AutoImmuneDisorder[42])\n",
    "\n"
   ]
  },
  {
   "cell_type": "code",
   "execution_count": 26,
   "metadata": {},
   "outputs": [
    {
     "name": "stdout",
     "output_type": "stream",
     "text": [
      "['Leukemia_Disease' 'Leukemia_Disease' 'Leukemia_Disease'\n",
      " 'Leukemia_Disease' 'Leukemia_Disease' 'Leukemia_Disease'\n",
      " 'Leukemia_Disease' 'Leukemia_Disease' 'Leukemia_Disease'\n",
      " 'Leukemia_Disease' 'Leukemia_Disease' 'Leukemia_Disease'\n",
      " 'Leukemia_Disease' 'Leukemia_Disease' 'Leukemia_Disease'\n",
      " 'Leukemia_Disease' 'Leukemia_Disease' 'Leukemia_Disease'\n",
      " 'Leukemia_Disease' 'Leukemia_Disease' 'Leukemia_Disease'\n",
      " 'Leukemia_Disease' 'Leukemia_Disease' 'Leukemia_Disease'\n",
      " 'Leukemia_Disease' 'Leukemia_Disease' 'Leukemia_Disease'\n",
      " 'Leukemia_Disease' 'Leukemia_Disease' 'Leukemia_Disease'\n",
      " 'Leukemia_Disease' 'Leukemia_Disease' 'Leukemia_Disease'\n",
      " 'Leukemia_Disease' 'Leukemia_Disease' 'Leukemia_Disease'\n",
      " 'Leukemia_Disease' 'Leukemia_Disease' 'Leukemia_Disease'\n",
      " 'Leukemia_Disease' 'Leukemia_Disease' 'Leukemia_Disease'\n",
      " 'Leukemia_Disease' 'Leukemia_Disease' 'Leukemia_Disease'\n",
      " 'Leukemia_Disease' 'Leukemia_Disease' 'Leukemia_Disease'\n",
      " 'Leukemia_Disease' 'Leukemia_Disease' 'Leukemia_Disease'\n",
      " 'Leukemia_Disease' 'Leukemia_Disease' 'Leukemia_Disease'\n",
      " 'Leukemia_Disease' 'Leukemia_Disease' 'Leukemia_Disease'\n",
      " 'Leukemia_Disease' 'Leukemia_Disease' 'Leukemia_Disease'\n",
      " 'Leukemia_Disease' 'Leukemia_Disease' 'Leukemia_Disease'\n",
      " 'Leukemia_Disease' 'Leukemia_Disease' 'Leukemia_Disease'\n",
      " 'Leukemia_Disease' 'Leukemia_Disease' 'Leukemia_Disease'\n",
      " 'Leukemia_Disease' 'Leukemia_Disease' 'Leukemia_Disease'\n",
      " 'Leukemia_Disease' 'Leukemia_Disease' 'Leukemia_Disease'\n",
      " 'Leukemia_Disease' 'Leukemia_Disease' 'Leukemia_Disease'\n",
      " 'Leukemia_Disease' 'Leukemia_Disease' 'Leukemia_Disease'\n",
      " 'Leukemia_Disease' 'Leukemia_Disease' 'Leukemia_Disease'\n",
      " 'Leukemia_Disease' 'Leukemia_Disease' 'Leukemia_Disease'\n",
      " 'Leukemia_Disease' 'Leukemia_Disease' 'Leukemia_Disease'\n",
      " 'Leukemia_Disease' 'Leukemia_Disease' 'Leukemia_Disease'\n",
      " 'Leukemia_Disease' 'Leukemia_Disease' 'Leukemia_Disease'\n",
      " 'Leukemia_Disease' 'Leukemia_Disease' 'Leukemia_Disease'\n",
      " 'Leukemia_Disease' 'Leukemia_Disease' 'Leukemia_Disease'\n",
      " 'Leukemia_Disease' 'Leukemia_Disease' 'Leukemia_Disease'\n",
      " 'Leukemia_Disease' 'Leukemia_Disease']\n"
     ]
    }
   ],
   "source": [
    "\n",
    "\n",
    "predictions = review_sentiment.predict(reviews_bow_test)\n",
    "print(predictions)\n",
    "\n"
   ]
  },
  {
   "cell_type": "code",
   "execution_count": 27,
   "metadata": {},
   "outputs": [
    {
     "name": "stdout",
     "output_type": "stream",
     "text": [
      "accuracy 0.205607476635514\n",
      "confusion matrix\n",
      " [[ 0  0  0  0  0  7  0  0]\n",
      " [ 0  0  0  0  0  5  0  0]\n",
      " [ 0  0  0  0  0 25  0  0]\n",
      " [ 0  0  0  0  0 11  0  0]\n",
      " [ 0  0  0  0  0  4  0  0]\n",
      " [ 0  0  0  0  0 22  0  0]\n",
      " [ 0  0  0  0  0 22  0  0]\n",
      " [ 0  0  0  0  0 11  0  0]]\n",
      "(row=expected, col=predicted)\n"
     ]
    }
   ],
   "source": [
    "print('accuracy', accuracy_score(reviews_sentiment_test, predictions))\n",
    "print('confusion matrix\\n', confusion_matrix(reviews_sentiment_test, predictions))\n",
    "print('(row=expected, col=predicted)')"
   ]
  },
  {
   "cell_type": "code",
   "execution_count": 28,
   "metadata": {},
   "outputs": [
    {
     "name": "stdout",
     "output_type": "stream",
     "text": [
      "                   precision    recall  f1-score   support\n",
      "\n",
      "   Celiac_Disease       0.00      0.00      0.00         7\n",
      "    Chron_Disease       0.00      0.00      0.00         5\n",
      "     Fibromyalgia       0.00      0.00      0.00        25\n",
      "Hashimoto_Disease       0.00      0.00      0.00        11\n",
      "   Kidney_Disease       0.00      0.00      0.00         4\n",
      " Leukemia_Disease       0.21      1.00      0.34        22\n",
      "       MS_Disease       0.00      0.00      0.00        22\n",
      "       RA_Disease       0.00      0.00      0.00        11\n",
      "\n",
      "         accuracy                           0.21       107\n",
      "        macro avg       0.03      0.12      0.04       107\n",
      "     weighted avg       0.04      0.21      0.07       107\n",
      "\n"
     ]
    },
    {
     "name": "stderr",
     "output_type": "stream",
     "text": [
      "c:\\users\\m\\anaconda2\\envs\\python36\\lib\\site-packages\\sklearn\\metrics\\classification.py:1437: UndefinedMetricWarning: Precision and F-score are ill-defined and being set to 0.0 in labels with no predicted samples.\n",
      "  'precision', 'predicted', average, warn_for)\n"
     ]
    }
   ],
   "source": [
    "print(classification_report(reviews_sentiment_test, predictions))\n",
    "#The F1 score can be interpreted as a weighted average of the precision and recall, \n",
    "#where an F1 score reaches its best value at 1 and worst score at 0."
   ]
  },
  {
   "cell_type": "code",
   "execution_count": 29,
   "metadata": {},
   "outputs": [],
   "source": [
    "def predict_review(new_review): \n",
    "    new_sample = bow_transformer.transform([new_review])\n",
    "    print(new_review, '\\nThe respective order new or pro probabilities:\\n',np.around(review_sentiment.predict_proba(new_sample), decimals=2),'\\n')"
   ]
  },
  {
   "cell_type": "code",
   "execution_count": 30,
   "metadata": {},
   "outputs": [
    {
     "data": {
      "text/plain": [
       "array(['Leukemia_Disease', 'Fibromyalgia', 'Kidney_Disease',\n",
       "       'Celiac_Disease', 'MS_Disease', 'Hashimoto_Disease', 'RA_Disease',\n",
       "       'Chron_Disease'], dtype=object)"
      ]
     },
     "execution_count": 30,
     "metadata": {},
     "output_type": "execute_result"
    }
   ],
   "source": [
    "\n",
    "\n",
    "reviews.AutoImmuneDisorder.unique()\n",
    "\n"
   ]
  },
  {
   "cell_type": "markdown",
   "metadata": {},
   "source": [
    "## There are eight classes for:\n",
    "\n",
    "0:Leukemia, 1: Fibromyalgia, 2:Kidney Disease, 3: Celiac Disease, 4: MS, 5: Hashimoto, 6: RA, 7: Chron's Disease\n",
    "\n",
    "The respective probabilities correspond to those diseases\n",
    "Below random sentiments were ran to see how well the NLP predictions rank the four figurative tweets."
   ]
  },
  {
   "cell_type": "code",
   "execution_count": 55,
   "metadata": {},
   "outputs": [
    {
     "name": "stdout",
     "output_type": "stream",
     "text": [
      "sick. pain. sleepless. anxious. \n",
      "The respective order new or pro probabilities:\n",
      " [[0.11 0.03 0.19 0.05 0.1  0.24 0.24 0.04]] \n",
      "\n",
      "digestive. hungry. \n",
      "The respective order new or pro probabilities:\n",
      " [[0.11 0.03 0.19 0.05 0.1  0.24 0.24 0.04]] \n",
      "\n",
      "bruising. sleepy. tired. headache. \n",
      "The respective order new or pro probabilities:\n",
      " [[0.11 0.03 0.19 0.05 0.1  0.24 0.24 0.04]] \n",
      "\n",
      "energy. crazy. manic. depressed. angry. \n",
      "The respective order new or pro probabilities:\n",
      " [[0.11 0.03 0.19 0.05 0.1  0.24 0.24 0.04]] \n",
      "\n"
     ]
    }
   ],
   "source": [
    "predict_review('sick. pain. sleepless. anxious.')\n",
    "\n",
    "predict_review('digestive. hungry.')\n",
    "\n",
    "predict_review('bruising. sleepy. tired. headache.')\n",
    "predict_review('energy. crazy. manic. depressed. angry.')"
   ]
  },
  {
   "cell_type": "code",
   "execution_count": null,
   "metadata": {},
   "outputs": [],
   "source": []
  }
 ],
 "metadata": {
  "kernelspec": {
   "display_name": "Python 3",
   "language": "python",
   "name": "python3"
  },
  "language_info": {
   "codemirror_mode": {
    "name": "ipython",
    "version": 3
   },
   "file_extension": ".py",
   "mimetype": "text/x-python",
   "name": "python",
   "nbconvert_exporter": "python",
   "pygments_lexer": "ipython3",
   "version": "3.6.9"
  }
 },
 "nbformat": 4,
 "nbformat_minor": 2
}
