{
 "cells": [
  {
   "cell_type": "markdown",
   "metadata": {},
   "source": [
    "## Autoimmune Tweets using Lemmatized Tweets with 8 categories of autoimmune diseases\n",
    "to test on Celiac Disease with 2 classes instead of 8\n",
    "Python 3.6 results, give a solid accuracy based on the data, but when\n",
    "generating probabilites for a set of random tweets outside the data table, give the exact results for all similar or not statements\n",
    "Those being: \n",
    "1:Multiple Sclerosis, 2:Celiac, 3: Leukemia, 4: Hashimoto, 5: Fibromyalgia, 6: Kidney Disease, 7: Rheumatoid Arthritis, 8: Chron's Disease"
   ]
  },
  {
   "cell_type": "markdown",
   "metadata": {},
   "source": [
    "Tweets were taken from respective diseases in early December 2019 from 13 to 119 \n",
    "tweets for each disease, as many as were found that weren't mostly marketing, using ''<disease> treatment' in the search"
   ]
  },
  {
   "cell_type": "code",
   "execution_count": 1,
   "metadata": {},
   "outputs": [],
   "source": [
    "%matplotlib inline \n",
    "import pandas as pd \n",
    "import matplotlib.pyplot as plt \n",
    "from textblob import TextBlob \n",
    "import sklearn \n",
    "import numpy as np \n",
    "from sklearn.feature_extraction.text import CountVectorizer \n",
    "from sklearn.naive_bayes import MultinomialNB \n",
    "from sklearn.metrics import classification_report, f1_score, accuracy_score, confusion_matrix \n",
    " \n",
    "np.random.seed(507) \n",
    " \n"
   ]
  },
  {
   "cell_type": "code",
   "execution_count": 2,
   "metadata": {},
   "outputs": [],
   "source": [
    "reviews = pd.read_csv('TargetReady_noCuss-binaryAdded.csv', encoding = 'unicode_escape') \n",
    "#the encoding needed for python3 handling nonASCII chars\n"
   ]
  },
  {
   "cell_type": "code",
   "execution_count": 3,
   "metadata": {},
   "outputs": [
    {
     "data": {
      "text/html": [
       "<div>\n",
       "<style scoped>\n",
       "    .dataframe tbody tr th:only-of-type {\n",
       "        vertical-align: middle;\n",
       "    }\n",
       "\n",
       "    .dataframe tbody tr th {\n",
       "        vertical-align: top;\n",
       "    }\n",
       "\n",
       "    .dataframe thead th {\n",
       "        text-align: right;\n",
       "    }\n",
       "</style>\n",
       "<table border=\"1\" class=\"dataframe\">\n",
       "  <thead>\n",
       "    <tr style=\"text-align: right;\">\n",
       "      <th></th>\n",
       "      <th>Tweet</th>\n",
       "      <th>Type</th>\n",
       "      <th>Celiac_Not</th>\n",
       "      <th>Lkm_Not</th>\n",
       "      <th>Kd_Not</th>\n",
       "      <th>RA_Not</th>\n",
       "      <th>MS_Not</th>\n",
       "      <th>Chron_Not</th>\n",
       "      <th>Fibro_Not</th>\n",
       "      <th>Hashi_Not</th>\n",
       "    </tr>\n",
       "  </thead>\n",
       "  <tbody>\n",
       "    <tr>\n",
       "      <td>0</td>\n",
       "      <td>UNKNOWNResearchCa\\r\\n@UNKNOWN_ARC\\r\\n·\\r\\n19h\\...</td>\n",
       "      <td>Rheumatoid Arthritis</td>\n",
       "      <td>not</td>\n",
       "      <td>not</td>\n",
       "      <td>not</td>\n",
       "      <td>RA</td>\n",
       "      <td>not</td>\n",
       "      <td>not</td>\n",
       "      <td>not</td>\n",
       "      <td>not</td>\n",
       "    </tr>\n",
       "    <tr>\n",
       "      <td>1</td>\n",
       "      <td>UNKNOWNatology Advisor\\r\\n@UNKNOWNAdvisor\\r\\n·...</td>\n",
       "      <td>Rheumatoid Arthritis</td>\n",
       "      <td>not</td>\n",
       "      <td>not</td>\n",
       "      <td>not</td>\n",
       "      <td>RA</td>\n",
       "      <td>not</td>\n",
       "      <td>not</td>\n",
       "      <td>not</td>\n",
       "      <td>not</td>\n",
       "    </tr>\n",
       "    <tr>\n",
       "      <td>2</td>\n",
       "      <td>UNKNOWN Community\\r\\n@our_UNKNOWN\\r\\n·\\r\\nDec ...</td>\n",
       "      <td>Rheumatoid Arthritis</td>\n",
       "      <td>not</td>\n",
       "      <td>not</td>\n",
       "      <td>not</td>\n",
       "      <td>RA</td>\n",
       "      <td>not</td>\n",
       "      <td>not</td>\n",
       "      <td>not</td>\n",
       "      <td>not</td>\n",
       "    </tr>\n",
       "    <tr>\n",
       "      <td>3</td>\n",
       "      <td>UNKNOWN National Research Foundation\\r\\n@CureU...</td>\n",
       "      <td>Rheumatoid Arthritis</td>\n",
       "      <td>not</td>\n",
       "      <td>not</td>\n",
       "      <td>not</td>\n",
       "      <td>RA</td>\n",
       "      <td>not</td>\n",
       "      <td>not</td>\n",
       "      <td>not</td>\n",
       "      <td>not</td>\n",
       "    </tr>\n",
       "    <tr>\n",
       "      <td>4</td>\n",
       "      <td>Orthopedic News\\r\\n@Orthopedics_Bio\\r\\n·\\r\\nDe...</td>\n",
       "      <td>Rheumatoid Arthritis</td>\n",
       "      <td>not</td>\n",
       "      <td>not</td>\n",
       "      <td>not</td>\n",
       "      <td>RA</td>\n",
       "      <td>not</td>\n",
       "      <td>not</td>\n",
       "      <td>not</td>\n",
       "      <td>not</td>\n",
       "    </tr>\n",
       "  </tbody>\n",
       "</table>\n",
       "</div>"
      ],
      "text/plain": [
       "                                               Tweet                  Type  \\\n",
       "0  UNKNOWNResearchCa\\r\\n@UNKNOWN_ARC\\r\\n·\\r\\n19h\\...  Rheumatoid Arthritis   \n",
       "1  UNKNOWNatology Advisor\\r\\n@UNKNOWNAdvisor\\r\\n·...  Rheumatoid Arthritis   \n",
       "2  UNKNOWN Community\\r\\n@our_UNKNOWN\\r\\n·\\r\\nDec ...  Rheumatoid Arthritis   \n",
       "3  UNKNOWN National Research Foundation\\r\\n@CureU...  Rheumatoid Arthritis   \n",
       "4  Orthopedic News\\r\\n@Orthopedics_Bio\\r\\n·\\r\\nDe...  Rheumatoid Arthritis   \n",
       "\n",
       "  Celiac_Not Lkm_Not Kd_Not RA_Not MS_Not Chron_Not Fibro_Not Hashi_Not  \n",
       "0        not     not    not     RA    not       not       not       not  \n",
       "1        not     not    not     RA    not       not       not       not  \n",
       "2        not     not    not     RA    not       not       not       not  \n",
       "3        not     not    not     RA    not       not       not       not  \n",
       "4        not     not    not     RA    not       not       not       not  "
      ]
     },
     "execution_count": 3,
     "metadata": {},
     "output_type": "execute_result"
    }
   ],
   "source": [
    "reviews.head()\n"
   ]
  },
  {
   "cell_type": "code",
   "execution_count": 4,
   "metadata": {},
   "outputs": [
    {
     "data": {
      "text/html": [
       "<div>\n",
       "<style scoped>\n",
       "    .dataframe tbody tr th:only-of-type {\n",
       "        vertical-align: middle;\n",
       "    }\n",
       "\n",
       "    .dataframe tbody tr th {\n",
       "        vertical-align: top;\n",
       "    }\n",
       "\n",
       "    .dataframe thead th {\n",
       "        text-align: right;\n",
       "    }\n",
       "</style>\n",
       "<table border=\"1\" class=\"dataframe\">\n",
       "  <thead>\n",
       "    <tr style=\"text-align: right;\">\n",
       "      <th></th>\n",
       "      <th>Tweet</th>\n",
       "      <th>Type</th>\n",
       "      <th>Celiac_Not</th>\n",
       "      <th>Lkm_Not</th>\n",
       "      <th>Kd_Not</th>\n",
       "      <th>RA_Not</th>\n",
       "      <th>MS_Not</th>\n",
       "      <th>Chron_Not</th>\n",
       "      <th>Fibro_Not</th>\n",
       "      <th>Hashi_Not</th>\n",
       "    </tr>\n",
       "  </thead>\n",
       "  <tbody>\n",
       "    <tr>\n",
       "      <td>502</td>\n",
       "      <td>All Ezine\\r\\n@allezine\\r\\n·\\r\\nJun 13, 2011\\r\\...</td>\n",
       "      <td>Chron's Disease</td>\n",
       "      <td>not</td>\n",
       "      <td>not</td>\n",
       "      <td>not</td>\n",
       "      <td>not</td>\n",
       "      <td>not</td>\n",
       "      <td>Chron</td>\n",
       "      <td>not</td>\n",
       "      <td>not</td>\n",
       "    </tr>\n",
       "    <tr>\n",
       "      <td>503</td>\n",
       "      <td>Brian Coombes\\r\\n@BrianKCoombes\\r\\n·\\r\\nSep 6\\...</td>\n",
       "      <td>Chron's Disease</td>\n",
       "      <td>not</td>\n",
       "      <td>not</td>\n",
       "      <td>not</td>\n",
       "      <td>not</td>\n",
       "      <td>not</td>\n",
       "      <td>Chron</td>\n",
       "      <td>not</td>\n",
       "      <td>not</td>\n",
       "    </tr>\n",
       "    <tr>\n",
       "      <td>504</td>\n",
       "      <td>Purpose ?\\r\\n@HappyBelieber\\r\\n·\\r\\nJan 19, 20...</td>\n",
       "      <td>Chron's Disease</td>\n",
       "      <td>not</td>\n",
       "      <td>not</td>\n",
       "      <td>not</td>\n",
       "      <td>not</td>\n",
       "      <td>not</td>\n",
       "      <td>Chron</td>\n",
       "      <td>not</td>\n",
       "      <td>not</td>\n",
       "    </tr>\n",
       "    <tr>\n",
       "      <td>505</td>\n",
       "      <td>K. Ketels-Lichtig\\r\\n@kklichtig\\r\\n·\\r\\nOct 25...</td>\n",
       "      <td>Chron's Disease</td>\n",
       "      <td>not</td>\n",
       "      <td>not</td>\n",
       "      <td>not</td>\n",
       "      <td>not</td>\n",
       "      <td>not</td>\n",
       "      <td>Chron</td>\n",
       "      <td>not</td>\n",
       "      <td>not</td>\n",
       "    </tr>\n",
       "    <tr>\n",
       "      <td>506</td>\n",
       "      <td>-DC-\\r\\n @CURSE WORDwitdaDC\\r\\n·\\r\\nJul 8, 2...</td>\n",
       "      <td>Chron's Disease</td>\n",
       "      <td>not</td>\n",
       "      <td>not</td>\n",
       "      <td>not</td>\n",
       "      <td>not</td>\n",
       "      <td>not</td>\n",
       "      <td>Chron</td>\n",
       "      <td>not</td>\n",
       "      <td>not</td>\n",
       "    </tr>\n",
       "  </tbody>\n",
       "</table>\n",
       "</div>"
      ],
      "text/plain": [
       "                                                 Tweet             Type  \\\n",
       "502  All Ezine\\r\\n@allezine\\r\\n·\\r\\nJun 13, 2011\\r\\...  Chron's Disease   \n",
       "503  Brian Coombes\\r\\n@BrianKCoombes\\r\\n·\\r\\nSep 6\\...  Chron's Disease   \n",
       "504  Purpose ?\\r\\n@HappyBelieber\\r\\n·\\r\\nJan 19, 20...  Chron's Disease   \n",
       "505  K. Ketels-Lichtig\\r\\n@kklichtig\\r\\n·\\r\\nOct 25...  Chron's Disease   \n",
       "506   -DC-\\r\\n @CURSE WORDwitdaDC\\r\\n·\\r\\nJul 8, 2...  Chron's Disease   \n",
       "\n",
       "    Celiac_Not Lkm_Not Kd_Not RA_Not MS_Not Chron_Not Fibro_Not Hashi_Not  \n",
       "502        not     not    not    not    not     Chron       not       not  \n",
       "503        not     not    not    not    not     Chron       not       not  \n",
       "504        not     not    not    not    not     Chron       not       not  \n",
       "505        not     not    not    not    not     Chron       not       not  \n",
       "506        not     not    not    not    not     Chron       not       not  "
      ]
     },
     "execution_count": 4,
     "metadata": {},
     "output_type": "execute_result"
    }
   ],
   "source": [
    "reviews.tail()"
   ]
  },
  {
   "cell_type": "code",
   "execution_count": 5,
   "metadata": {},
   "outputs": [
    {
     "data": {
      "text/plain": [
       "(507, 10)"
      ]
     },
     "execution_count": 5,
     "metadata": {},
     "output_type": "execute_result"
    }
   ],
   "source": [
    "reviews.shape"
   ]
  },
  {
   "cell_type": "code",
   "execution_count": 6,
   "metadata": {},
   "outputs": [
    {
     "name": "stdout",
     "output_type": "stream",
     "text": [
      "                                                 Tweet                Type  \\\n",
      "288  Aleksandar dr Petrov\\r\\n@aleksandar_BG\\r\\n·\\r\\...  Multiple Sclerosis   \n",
      "70   Beyond UNKNOWN\\r\\n@BeyondUNKNOWN\\r\\n·\\r\\nSep 1...      Celiac Disease   \n",
      "184  #HandsOffVenezuela\\r\\n@ChicoFreedom\\r\\n·\\r\\nDe...            Leukemia   \n",
      "459  Adult & Pediatric Ear, Nose & Throat\\r\\n@EarAd...   Hashimoto Disease   \n",
      "448  Angela J. White\\r\\n@50Plushealths\\r\\n·\\r\\nDec ...        Fibromyalgia   \n",
      "\n",
      "    Celiac_Not Lkm_Not Kd_Not RA_Not MS_Not Chron_Not Fibro_Not Hashi_Not  \n",
      "288        not     not    not    not     MS       not       not       not  \n",
      "70      celiac     not    not    not    not       not       not       not  \n",
      "184        not     Lkm    not    not    not       not       not       not  \n",
      "459        not     not    not    not    not       not       not     Hashi  \n",
      "448        not     not    not    not    not       not     fibro       not  \n",
      "                                                 Tweet                Type  \\\n",
      "136  CURE Magazine\\r\\n@cure_magazine\\r\\n·\\r\\nDec 3\\...            Leukemia   \n",
      "503  Brian Coombes\\r\\n@BrianKCoombes\\r\\n·\\r\\nSep 6\\...     Chron's Disease   \n",
      "295  Glynis Edwards\\r\\n@Glynis4B12\\r\\n·\\r\\nNov 26\\r...  Multiple Sclerosis   \n",
      "452  Mavz\\r\\n@mattymavz\\r\\n·\\r\\nNov 5, 2018\\r\\nIt's...        Fibromyalgia   \n",
      "112  GrupoCronosSEFH\\r\\n@GRUPOCRONOSSEF1\\r\\n·\\r\\nDe...      Kidney Disease   \n",
      "\n",
      "    Celiac_Not Lkm_Not Kd_Not RA_Not MS_Not Chron_Not Fibro_Not Hashi_Not  \n",
      "136        not     Lkm    not    not    not       not       not       not  \n",
      "503        not     not    not    not    not     Chron       not       not  \n",
      "295        not     not    not    not     MS       not       not       not  \n",
      "452        not     not    not    not    not       not     fibro       not  \n",
      "112        not     not     Kd    not    not       not       not       not  \n"
     ]
    }
   ],
   "source": [
    "reviews = reviews.reindex(np.random.permutation(reviews.index))\n",
    "\n",
    "print(reviews.head())\n",
    "print(reviews.tail())"
   ]
  },
  {
   "cell_type": "code",
   "execution_count": 7,
   "metadata": {},
   "outputs": [
    {
     "data": {
      "text/html": [
       "<div>\n",
       "<style scoped>\n",
       "    .dataframe tbody tr th:only-of-type {\n",
       "        vertical-align: middle;\n",
       "    }\n",
       "\n",
       "    .dataframe tbody tr th {\n",
       "        vertical-align: top;\n",
       "    }\n",
       "\n",
       "    .dataframe thead tr th {\n",
       "        text-align: left;\n",
       "    }\n",
       "\n",
       "    .dataframe thead tr:last-of-type th {\n",
       "        text-align: right;\n",
       "    }\n",
       "</style>\n",
       "<table border=\"1\" class=\"dataframe\">\n",
       "  <thead>\n",
       "    <tr>\n",
       "      <th></th>\n",
       "      <th colspan=\"4\" halign=\"left\">Tweet</th>\n",
       "      <th colspan=\"4\" halign=\"left\">Celiac_Not</th>\n",
       "      <th colspan=\"2\" halign=\"left\">Lkm_Not</th>\n",
       "      <th>...</th>\n",
       "      <th colspan=\"2\" halign=\"left\">Chron_Not</th>\n",
       "      <th colspan=\"4\" halign=\"left\">Fibro_Not</th>\n",
       "      <th colspan=\"4\" halign=\"left\">Hashi_Not</th>\n",
       "    </tr>\n",
       "    <tr>\n",
       "      <th></th>\n",
       "      <th>count</th>\n",
       "      <th>unique</th>\n",
       "      <th>top</th>\n",
       "      <th>freq</th>\n",
       "      <th>count</th>\n",
       "      <th>unique</th>\n",
       "      <th>top</th>\n",
       "      <th>freq</th>\n",
       "      <th>count</th>\n",
       "      <th>unique</th>\n",
       "      <th>...</th>\n",
       "      <th>top</th>\n",
       "      <th>freq</th>\n",
       "      <th>count</th>\n",
       "      <th>unique</th>\n",
       "      <th>top</th>\n",
       "      <th>freq</th>\n",
       "      <th>count</th>\n",
       "      <th>unique</th>\n",
       "      <th>top</th>\n",
       "      <th>freq</th>\n",
       "    </tr>\n",
       "    <tr>\n",
       "      <th>Type</th>\n",
       "      <th></th>\n",
       "      <th></th>\n",
       "      <th></th>\n",
       "      <th></th>\n",
       "      <th></th>\n",
       "      <th></th>\n",
       "      <th></th>\n",
       "      <th></th>\n",
       "      <th></th>\n",
       "      <th></th>\n",
       "      <th></th>\n",
       "      <th></th>\n",
       "      <th></th>\n",
       "      <th></th>\n",
       "      <th></th>\n",
       "      <th></th>\n",
       "      <th></th>\n",
       "      <th></th>\n",
       "      <th></th>\n",
       "      <th></th>\n",
       "      <th></th>\n",
       "    </tr>\n",
       "  </thead>\n",
       "  <tbody>\n",
       "    <tr>\n",
       "      <td>Celiac Disease</td>\n",
       "      <td>50</td>\n",
       "      <td>50</td>\n",
       "      <td>Vicki\\r\\n@vvanblaricum\\r\\n·\\r\\nDec 2\\r\\nReplyi...</td>\n",
       "      <td>1</td>\n",
       "      <td>50</td>\n",
       "      <td>1</td>\n",
       "      <td>celiac</td>\n",
       "      <td>50</td>\n",
       "      <td>50</td>\n",
       "      <td>1</td>\n",
       "      <td>...</td>\n",
       "      <td>not</td>\n",
       "      <td>50</td>\n",
       "      <td>50</td>\n",
       "      <td>1</td>\n",
       "      <td>not</td>\n",
       "      <td>50</td>\n",
       "      <td>50</td>\n",
       "      <td>1</td>\n",
       "      <td>not</td>\n",
       "      <td>50</td>\n",
       "    </tr>\n",
       "    <tr>\n",
       "      <td>Chron's Disease</td>\n",
       "      <td>19</td>\n",
       "      <td>19</td>\n",
       "      <td>Lift Resource Centre\\r\\n@liftcentre\\r\\n·\\r\\nJu...</td>\n",
       "      <td>1</td>\n",
       "      <td>19</td>\n",
       "      <td>1</td>\n",
       "      <td>not</td>\n",
       "      <td>19</td>\n",
       "      <td>19</td>\n",
       "      <td>1</td>\n",
       "      <td>...</td>\n",
       "      <td>Chron</td>\n",
       "      <td>19</td>\n",
       "      <td>19</td>\n",
       "      <td>1</td>\n",
       "      <td>not</td>\n",
       "      <td>19</td>\n",
       "      <td>19</td>\n",
       "      <td>1</td>\n",
       "      <td>not</td>\n",
       "      <td>19</td>\n",
       "    </tr>\n",
       "    <tr>\n",
       "      <td>Fibromyalgia</td>\n",
       "      <td>99</td>\n",
       "      <td>96</td>\n",
       "      <td>Fibro Bloggers\\r\\n@FibroBloggers\\r\\n·\\r\\nNov 2...</td>\n",
       "      <td>2</td>\n",
       "      <td>99</td>\n",
       "      <td>1</td>\n",
       "      <td>not</td>\n",
       "      <td>99</td>\n",
       "      <td>99</td>\n",
       "      <td>1</td>\n",
       "      <td>...</td>\n",
       "      <td>not</td>\n",
       "      <td>99</td>\n",
       "      <td>99</td>\n",
       "      <td>1</td>\n",
       "      <td>fibro</td>\n",
       "      <td>99</td>\n",
       "      <td>99</td>\n",
       "      <td>1</td>\n",
       "      <td>not</td>\n",
       "      <td>99</td>\n",
       "    </tr>\n",
       "    <tr>\n",
       "      <td>Hashimoto Disease</td>\n",
       "      <td>30</td>\n",
       "      <td>29</td>\n",
       "      <td>Colorado Natural Med\\r\\n@drgravesCO\\r\\n·\\r\\nDe...</td>\n",
       "      <td>2</td>\n",
       "      <td>30</td>\n",
       "      <td>1</td>\n",
       "      <td>not</td>\n",
       "      <td>30</td>\n",
       "      <td>30</td>\n",
       "      <td>1</td>\n",
       "      <td>...</td>\n",
       "      <td>not</td>\n",
       "      <td>30</td>\n",
       "      <td>30</td>\n",
       "      <td>1</td>\n",
       "      <td>not</td>\n",
       "      <td>30</td>\n",
       "      <td>30</td>\n",
       "      <td>1</td>\n",
       "      <td>Hashi</td>\n",
       "      <td>30</td>\n",
       "    </tr>\n",
       "    <tr>\n",
       "      <td>Kidney Disease</td>\n",
       "      <td>43</td>\n",
       "      <td>43</td>\n",
       "      <td>Cleveland Clinic MD\\r\\n@CleClinicMD\\r\\n·\\r\\nDe...</td>\n",
       "      <td>1</td>\n",
       "      <td>43</td>\n",
       "      <td>1</td>\n",
       "      <td>not</td>\n",
       "      <td>43</td>\n",
       "      <td>43</td>\n",
       "      <td>1</td>\n",
       "      <td>...</td>\n",
       "      <td>not</td>\n",
       "      <td>43</td>\n",
       "      <td>43</td>\n",
       "      <td>1</td>\n",
       "      <td>not</td>\n",
       "      <td>43</td>\n",
       "      <td>43</td>\n",
       "      <td>1</td>\n",
       "      <td>not</td>\n",
       "      <td>43</td>\n",
       "    </tr>\n",
       "    <tr>\n",
       "      <td>Leukemia</td>\n",
       "      <td>119</td>\n",
       "      <td>119</td>\n",
       "      <td>Medivizor\\r\\n@medivizor\\r\\n·\\r\\nNov 28\\r\\nCopi...</td>\n",
       "      <td>1</td>\n",
       "      <td>119</td>\n",
       "      <td>1</td>\n",
       "      <td>not</td>\n",
       "      <td>119</td>\n",
       "      <td>119</td>\n",
       "      <td>1</td>\n",
       "      <td>...</td>\n",
       "      <td>not</td>\n",
       "      <td>119</td>\n",
       "      <td>119</td>\n",
       "      <td>1</td>\n",
       "      <td>not</td>\n",
       "      <td>119</td>\n",
       "      <td>119</td>\n",
       "      <td>1</td>\n",
       "      <td>not</td>\n",
       "      <td>119</td>\n",
       "    </tr>\n",
       "    <tr>\n",
       "      <td>Multiple Sclerosis</td>\n",
       "      <td>119</td>\n",
       "      <td>119</td>\n",
       "      <td>Cannabis Industry UK\\r\\n@CannaIndustryuk\\r\\n·\\...</td>\n",
       "      <td>1</td>\n",
       "      <td>119</td>\n",
       "      <td>1</td>\n",
       "      <td>not</td>\n",
       "      <td>119</td>\n",
       "      <td>119</td>\n",
       "      <td>1</td>\n",
       "      <td>...</td>\n",
       "      <td>not</td>\n",
       "      <td>119</td>\n",
       "      <td>119</td>\n",
       "      <td>1</td>\n",
       "      <td>not</td>\n",
       "      <td>119</td>\n",
       "      <td>119</td>\n",
       "      <td>1</td>\n",
       "      <td>not</td>\n",
       "      <td>119</td>\n",
       "    </tr>\n",
       "    <tr>\n",
       "      <td>Rheumatoid Arthritis</td>\n",
       "      <td>28</td>\n",
       "      <td>28</td>\n",
       "      <td>Jessica Daitch\\r\\n@JessinCharlotte\\r\\n·\\r\\nSep...</td>\n",
       "      <td>1</td>\n",
       "      <td>28</td>\n",
       "      <td>1</td>\n",
       "      <td>not</td>\n",
       "      <td>28</td>\n",
       "      <td>28</td>\n",
       "      <td>1</td>\n",
       "      <td>...</td>\n",
       "      <td>not</td>\n",
       "      <td>28</td>\n",
       "      <td>28</td>\n",
       "      <td>1</td>\n",
       "      <td>not</td>\n",
       "      <td>28</td>\n",
       "      <td>28</td>\n",
       "      <td>1</td>\n",
       "      <td>not</td>\n",
       "      <td>28</td>\n",
       "    </tr>\n",
       "  </tbody>\n",
       "</table>\n",
       "<p>8 rows × 36 columns</p>\n",
       "</div>"
      ],
      "text/plain": [
       "                     Tweet         \\\n",
       "                     count unique   \n",
       "Type                                \n",
       "Celiac Disease          50     50   \n",
       "Chron's Disease         19     19   \n",
       "Fibromyalgia            99     96   \n",
       "Hashimoto Disease       30     29   \n",
       "Kidney Disease          43     43   \n",
       "Leukemia               119    119   \n",
       "Multiple Sclerosis     119    119   \n",
       "Rheumatoid Arthritis    28     28   \n",
       "\n",
       "                                                                              \\\n",
       "                                                                    top freq   \n",
       "Type                                                                           \n",
       "Celiac Disease        Vicki\\r\\n@vvanblaricum\\r\\n·\\r\\nDec 2\\r\\nReplyi...    1   \n",
       "Chron's Disease       Lift Resource Centre\\r\\n@liftcentre\\r\\n·\\r\\nJu...    1   \n",
       "Fibromyalgia          Fibro Bloggers\\r\\n@FibroBloggers\\r\\n·\\r\\nNov 2...    2   \n",
       "Hashimoto Disease     Colorado Natural Med\\r\\n@drgravesCO\\r\\n·\\r\\nDe...    2   \n",
       "Kidney Disease        Cleveland Clinic MD\\r\\n@CleClinicMD\\r\\n·\\r\\nDe...    1   \n",
       "Leukemia              Medivizor\\r\\n@medivizor\\r\\n·\\r\\nNov 28\\r\\nCopi...    1   \n",
       "Multiple Sclerosis    Cannabis Industry UK\\r\\n@CannaIndustryuk\\r\\n·\\...    1   \n",
       "Rheumatoid Arthritis  Jessica Daitch\\r\\n@JessinCharlotte\\r\\n·\\r\\nSep...    1   \n",
       "\n",
       "                     Celiac_Not                     Lkm_Not         ...  \\\n",
       "                          count unique     top freq   count unique  ...   \n",
       "Type                                                                ...   \n",
       "Celiac Disease               50      1  celiac   50      50      1  ...   \n",
       "Chron's Disease              19      1     not   19      19      1  ...   \n",
       "Fibromyalgia                 99      1     not   99      99      1  ...   \n",
       "Hashimoto Disease            30      1     not   30      30      1  ...   \n",
       "Kidney Disease               43      1     not   43      43      1  ...   \n",
       "Leukemia                    119      1     not  119     119      1  ...   \n",
       "Multiple Sclerosis          119      1     not  119     119      1  ...   \n",
       "Rheumatoid Arthritis         28      1     not   28      28      1  ...   \n",
       "\n",
       "                     Chron_Not      Fibro_Not                    Hashi_Not  \\\n",
       "                           top freq     count unique    top freq     count   \n",
       "Type                                                                         \n",
       "Celiac Disease             not   50        50      1    not   50        50   \n",
       "Chron's Disease          Chron   19        19      1    not   19        19   \n",
       "Fibromyalgia               not   99        99      1  fibro   99        99   \n",
       "Hashimoto Disease          not   30        30      1    not   30        30   \n",
       "Kidney Disease             not   43        43      1    not   43        43   \n",
       "Leukemia                   not  119       119      1    not  119       119   \n",
       "Multiple Sclerosis         not  119       119      1    not  119       119   \n",
       "Rheumatoid Arthritis       not   28        28      1    not   28        28   \n",
       "\n",
       "                                         \n",
       "                     unique    top freq  \n",
       "Type                                     \n",
       "Celiac Disease            1    not   50  \n",
       "Chron's Disease           1    not   19  \n",
       "Fibromyalgia              1    not   99  \n",
       "Hashimoto Disease         1  Hashi   30  \n",
       "Kidney Disease            1    not   43  \n",
       "Leukemia                  1    not  119  \n",
       "Multiple Sclerosis        1    not  119  \n",
       "Rheumatoid Arthritis      1    not   28  \n",
       "\n",
       "[8 rows x 36 columns]"
      ]
     },
     "execution_count": 7,
     "metadata": {},
     "output_type": "execute_result"
    }
   ],
   "source": [
    "\n",
    "\n",
    "reviews.groupby('Type').describe()\n",
    "\n"
   ]
  },
  {
   "cell_type": "code",
   "execution_count": 8,
   "metadata": {},
   "outputs": [
    {
     "name": "stdout",
     "output_type": "stream",
     "text": [
      "                                                 Tweet                Type  \\\n",
      "288  Aleksandar dr Petrov\\r\\n@aleksandar_BG\\r\\n·\\r\\...  Multiple Sclerosis   \n",
      "70   Beyond UNKNOWN\\r\\n@BeyondUNKNOWN\\r\\n·\\r\\nSep 1...      Celiac Disease   \n",
      "184  #HandsOffVenezuela\\r\\n@ChicoFreedom\\r\\n·\\r\\nDe...            Leukemia   \n",
      "459  Adult & Pediatric Ear, Nose & Throat\\r\\n@EarAd...   Hashimoto Disease   \n",
      "448  Angela J. White\\r\\n@50Plushealths\\r\\n·\\r\\nDec ...        Fibromyalgia   \n",
      "\n",
      "    Celiac_Not Lkm_Not Kd_Not RA_Not MS_Not Chron_Not Fibro_Not Hashi_Not  \\\n",
      "288        not     not    not    not     MS       not       not       not   \n",
      "70      celiac     not    not    not    not       not       not       not   \n",
      "184        not     Lkm    not    not    not       not       not       not   \n",
      "459        not     not    not    not    not       not       not     Hashi   \n",
      "448        not     not    not    not    not       not     fibro       not   \n",
      "\n",
      "     length  \n",
      "288     281  \n",
      "70      247  \n",
      "184     317  \n",
      "459     142  \n",
      "448     255  \n"
     ]
    }
   ],
   "source": [
    "\n",
    "\n",
    "reviews['length'] = reviews['Tweet'].map(lambda text: len(text))\n",
    "print(reviews.head())\n",
    "\n"
   ]
  },
  {
   "cell_type": "code",
   "execution_count": 9,
   "metadata": {},
   "outputs": [
    {
     "data": {
      "text/plain": [
       "<matplotlib.axes._subplots.AxesSubplot at 0x2365a2ff780>"
      ]
     },
     "execution_count": 9,
     "metadata": {},
     "output_type": "execute_result"
    },
    {
     "data": {
      "image/png": "[encoded data removed]",
      "text/plain": [
       "<Figure size 432x288 with 1 Axes>"
      ]
     },
     "metadata": {
      "needs_background": "light"
     },
     "output_type": "display_data"
    }
   ],
   "source": [
    "reviews.length.plot(bins=20, kind='hist') "
   ]
  },
  {
   "cell_type": "code",
   "execution_count": 10,
   "metadata": {},
   "outputs": [
    {
     "data": {
      "text/plain": [
       "count    507.000000\n",
       "mean     276.568047\n",
       "std      104.552353\n",
       "min       87.000000\n",
       "25%      201.500000\n",
       "50%      279.000000\n",
       "75%      320.500000\n",
       "max      847.000000\n",
       "Name: length, dtype: float64"
      ]
     },
     "execution_count": 10,
     "metadata": {},
     "output_type": "execute_result"
    }
   ],
   "source": [
    "reviews.length.describe()"
   ]
  },
  {
   "cell_type": "code",
   "execution_count": 11,
   "metadata": {},
   "outputs": [
    {
     "name": "stdout",
     "output_type": "stream",
     "text": [
      "[151]\n",
      "['Leukemia']\n",
      "['BTS Mauritius\\r\\n@BTSMauritius\\r\\n·\\r\\n19h\\r\\nThe Korea Leukemia Children\\x92s Foundation announced that 553 ARMYs donated blood in honour of @BTS_twt\\r\\n\\x92s Jin birthday!\\r\\n\\r\\nIt\\x92ll be used for children with cancer who need to receive large blood transfusions during treatment, helping to ease the burden of costs for patients\\x92 families.\\r\\nQuote Tweet\\r\\n??????\\r\\n??\\r\\n??\\r\\n@_nojam_nolife\\r\\n · Dec 3\\r\\n????? ? ??, ?? ?? ??? ??(??)  \\r\\n??\\r\\nhttp://entertain.v.daum.net/v/20191204091525391\\r\\n\\r\\n#????? #BTS @BTS_twt \\r\\n\\r\\n??????????? ?????? ????? ? ????? ?? ?? ??? 12? 4? ????? ?? ???? ?? ??? ???? ??? 553?? ????? ???.\\r\\nImage\\r\\nImage\\r\\nImage\\r\\nImage\\r\\nImprisoned Babies\\r\\n@aptlmetin\\r\\n·\\r\\nDec 3\\r\\nAkif Acute Lymphoblastic Leukemia patient. He is going through a heavy treatment process. He needs medicare. Let mom?enay DA?TAN have her trial without arrest!\\r\\n#InternationalDisabilityDay ']\n"
     ]
    }
   ],
   "source": [
    "print(list(reviews.Tweet[reviews.length > 700].index)) #near the max for length of LemmatizedTweets\n",
    "print(list(reviews.Type[reviews.length > 700]))\n",
    "print(list(reviews.Tweet[reviews.length > 700]))"
   ]
  },
  {
   "cell_type": "code",
   "execution_count": 12,
   "metadata": {},
   "outputs": [
    {
     "name": "stdout",
     "output_type": "stream",
     "text": [
      "Wall time: 516 ms\n"
     ]
    },
    {
     "data": {
      "text/plain": [
       "array([[<matplotlib.axes._subplots.AxesSubplot object at 0x000002365A426518>,\n",
       "        <matplotlib.axes._subplots.AxesSubplot object at 0x000002365A46BBA8>,\n",
       "        <matplotlib.axes._subplots.AxesSubplot object at 0x000002365A4A3198>],\n",
       "       [<matplotlib.axes._subplots.AxesSubplot object at 0x000002365A4D3748>,\n",
       "        <matplotlib.axes._subplots.AxesSubplot object at 0x000002365A504C88>,\n",
       "        <matplotlib.axes._subplots.AxesSubplot object at 0x000002365A544278>],\n",
       "       [<matplotlib.axes._subplots.AxesSubplot object at 0x000002365A575828>,\n",
       "        <matplotlib.axes._subplots.AxesSubplot object at 0x000002365A5A6E10>,\n",
       "        <matplotlib.axes._subplots.AxesSubplot object at 0x000002365A5A6E48>]],\n",
       "      dtype=object)"
      ]
     },
     "execution_count": 12,
     "metadata": {},
     "output_type": "execute_result"
    },
    {
     "data": {
      "image/png": "[encoded data removed]",
      "text/plain": [
       "<Figure size 432x288 with 9 Axes>"
      ]
     },
     "metadata": {
      "needs_background": "light"
     },
     "output_type": "display_data"
    }
   ],
   "source": [
    "%%time\n",
    "reviews.hist(column='length', by='Type', bins=10)"
   ]
  },
  {
   "cell_type": "code",
   "execution_count": 13,
   "metadata": {},
   "outputs": [],
   "source": [
    "def split_into_tokens(review):\n",
    "    \n",
    "    #review = unicode(review, 'iso-8859-1')# in python 3 the default of str() previously python2 as unicode() is utf-8\n",
    "    return TextBlob(review).words"
   ]
  },
  {
   "cell_type": "code",
   "execution_count": 14,
   "metadata": {},
   "outputs": [
    {
     "data": {
      "text/plain": [
       "288    [Aleksandar, dr, Petrov, aleksandar_BG, ·, Dec...\n",
       "70     [Beyond, UNKNOWN, BeyondUNKNOWN, ·, Sep, 17, 2...\n",
       "184    [HandsOffVenezuela, ChicoFreedom, ·, Dec, 2, o...\n",
       "459    [Adult, Pediatric, Ear, Nose, Throat, EarAdult...\n",
       "448    [Angela, J, White, 50Plushealths, ·, Dec, 15, ...\n",
       "Name: Tweet, dtype: object"
      ]
     },
     "execution_count": 14,
     "metadata": {},
     "output_type": "execute_result"
    }
   ],
   "source": [
    "\n",
    "\n",
    "reviews.Tweet.head().apply(split_into_tokens)\n",
    "\n"
   ]
  },
  {
   "cell_type": "code",
   "execution_count": 15,
   "metadata": {},
   "outputs": [
    {
     "data": {
      "text/plain": [
       "[('hello', 'JJ'),\n",
       " ('world', 'NN'),\n",
       " ('how', 'WRB'),\n",
       " ('is', 'VBZ'),\n",
       " ('it', 'PRP'),\n",
       " ('going', 'VBG')]"
      ]
     },
     "execution_count": 15,
     "metadata": {},
     "output_type": "execute_result"
    }
   ],
   "source": [
    "TextBlob(\"hello world, how is it going?\").tags"
   ]
  },
  {
   "cell_type": "code",
   "execution_count": 16,
   "metadata": {},
   "outputs": [
    {
     "name": "stderr",
     "output_type": "stream",
     "text": [
      "[nltk_data] Downloading package stopwords to\n",
      "[nltk_data]     C:\\Users\\m\\AppData\\Roaming\\nltk_data...\n",
      "[nltk_data]   Package stopwords is already up-to-date!\n"
     ]
    },
    {
     "data": {
      "text/plain": [
       "True"
      ]
     },
     "execution_count": 16,
     "metadata": {},
     "output_type": "execute_result"
    }
   ],
   "source": [
    "\n",
    "\n",
    "import nltk\n",
    "nltk.download('stopwords')\n",
    "\n"
   ]
  },
  {
   "cell_type": "code",
   "execution_count": 17,
   "metadata": {},
   "outputs": [],
   "source": [
    "from nltk.corpus import stopwords\n",
    "\n",
    "stop = stopwords.words('english')\n",
    "stop = stop + [u'a',u'b',u'c',u'd',u'e',u'f',u'g',u'h',u'i',u'j',u'k',u'l',u'm',u'n',u'o',u'p',u'q',u'r',u's',u't',u'v',u'w',u'x',u'y',u'z']"
   ]
  },
  {
   "cell_type": "code",
   "execution_count": 18,
   "metadata": {},
   "outputs": [
    {
     "data": {
      "text/plain": [
       "288    [aleksandar, dr, petrov, aleksandar_bg, ·, dec...\n",
       "70     [beyond, unknown, beyondunknown, ·, sep, 17, 2...\n",
       "184    [handsoffvenezuela, chicofreedom, ·, dec, 2, o...\n",
       "459    [adult, pediatric, ear, nose, throat, earadult...\n",
       "448    [angela, white, 50plushealths, ·, dec, 15, 201...\n",
       "Name: Tweet, dtype: object"
      ]
     },
     "execution_count": 18,
     "metadata": {},
     "output_type": "execute_result"
    }
   ],
   "source": [
    "def split_into_lemmas(review):\n",
    "    #review = unicode(review, 'iso-8859-1')\n",
    "    review = review.lower()\n",
    "    #review = unicode(review, 'utf8').lower()\n",
    "    #review = str(review).lower()\n",
    "    words = TextBlob(review).words\n",
    "    # for each word, take its \"base form\" = lemma \n",
    "    return [word.lemma for word in words if word not in stop]\n",
    "\n",
    "reviews.Tweet.head().apply(split_into_lemmas)"
   ]
  },
  {
   "cell_type": "code",
   "execution_count": 19,
   "metadata": {},
   "outputs": [
    {
     "name": "stdout",
     "output_type": "stream",
     "text": [
      "4792\n"
     ]
    }
   ],
   "source": [
    "# Celiac or Not classes\n",
    "\n",
    "#%%time\n",
    "bow_transformer = CountVectorizer(analyzer=split_into_lemmas, ngram_range=(1,4)).fit(reviews['Tweet'])\n",
    "print(len(bow_transformer.vocabulary_))\n",
    "\n"
   ]
  },
  {
   "cell_type": "code",
   "execution_count": 20,
   "metadata": {},
   "outputs": [
    {
     "data": {
      "text/plain": [
       "CountVectorizer(analyzer=<function split_into_lemmas at 0x000002365C19DAE8>,\n",
       "                binary=False, decode_error='strict',\n",
       "                dtype=<class 'numpy.int64'>, encoding='utf-8', input='content',\n",
       "                lowercase=True, max_df=1.0, max_features=None, min_df=1,\n",
       "                ngram_range=(1, 4), preprocessor=None, stop_words=None,\n",
       "                strip_accents=None, token_pattern='(?u)\\\\b\\\\w\\\\w+\\\\b',\n",
       "                tokenizer=None, vocabulary=None)"
      ]
     },
     "execution_count": 20,
     "metadata": {},
     "output_type": "execute_result"
    }
   ],
   "source": [
    "bow_transformer"
   ]
  },
  {
   "cell_type": "code",
   "execution_count": 21,
   "metadata": {},
   "outputs": [
    {
     "name": "stdout",
     "output_type": "stream",
     "text": [
      "Peking University\r\n",
      "@PKU1898\r\n",
      "·\r\n",
      "Nov 30\r\n",
      "Published in Cold Spring Harbor Perspectives in Medicine, #Peking Universitys Wu Hong and team analyzed connections between a tumor suppressing gene called PTEN, the formation of blood cell components, and leukemia. #PekingScience\n"
     ]
    }
   ],
   "source": [
    "review4 = reviews['Tweet'][148]\n",
    "print(review4)"
   ]
  },
  {
   "cell_type": "code",
   "execution_count": 22,
   "metadata": {},
   "outputs": [
    {
     "name": "stdout",
     "output_type": "stream",
     "text": [
      "  (0, 113)\t1\n",
      "  (0, 371)\t1\n",
      "  (0, 705)\t1\n",
      "  (0, 816)\t1\n",
      "  (0, 898)\t1\n",
      "  (0, 1023)\t1\n",
      "  (0, 1062)\t1\n",
      "  (0, 1085)\t1\n",
      "  (0, 1780)\t1\n",
      "  (0, 1846)\t1\n",
      "  (0, 1990)\t1\n",
      "  (0, 2095)\t1\n",
      "  (0, 2545)\t1\n",
      "  (0, 2788)\t1\n",
      "  (0, 3111)\t1\n",
      "  (0, 3303)\t2\n",
      "  (0, 3304)\t1\n",
      "  (0, 3330)\t1\n",
      "  (0, 3369)\t1\n",
      "  (0, 3533)\t1\n",
      "  (0, 3535)\t1\n",
      "  (0, 4022)\t1\n",
      "  (0, 4140)\t1\n",
      "  (0, 4205)\t1\n",
      "  (0, 4401)\t1\n",
      "  (0, 4472)\t1\n",
      "  (0, 4474)\t1\n",
      "  (0, 4729)\t1\n",
      "  (0, 4790)\t1\n"
     ]
    }
   ],
   "source": [
    "\n",
    "\n",
    "bow4 = bow_transformer.transform([review4])\n",
    "print(bow4)\n",
    "\n"
   ]
  },
  {
   "cell_type": "code",
   "execution_count": 23,
   "metadata": {},
   "outputs": [
    {
     "name": "stdout",
     "output_type": "stream",
     "text": [
      "sparse matrix shape: (507, 4792)\n",
      "number of non-zeros: 12995\n",
      "sparsity: 0.53%\n",
      "Wall time: 1 s\n"
     ]
    }
   ],
   "source": [
    "%%time\n",
    "reviews_bow = bow_transformer.transform(reviews['Tweet'])\n",
    "print('sparse matrix shape:', reviews_bow.shape)\n",
    "print('number of non-zeros:', reviews_bow.nnz)\n",
    "print('sparsity: %.2f%%' % (100.0 * reviews_bow.nnz / (reviews_bow.shape[0] * reviews_bow.shape[1])))"
   ]
  },
  {
   "cell_type": "code",
   "execution_count": 24,
   "metadata": {},
   "outputs": [
    {
     "name": "stdout",
     "output_type": "stream",
     "text": [
      "(400, 4792)\n",
      "(107, 4792)\n"
     ]
    }
   ],
   "source": [
    "\n",
    "\n",
    "# Split/splice into training ~ 80% and testing ~ 20%\n",
    "reviews_bow_train = reviews_bow[:400]\n",
    "reviews_bow_test = reviews_bow[400:]\n",
    "reviews_sentiment_train = reviews['Celiac_Not'][:400]\n",
    "reviews_sentiment_test = reviews['Celiac_Not'][400:]\n",
    "\n",
    "print(reviews_bow_train.shape)\n",
    "print(reviews_bow_test.shape)\n",
    "\n"
   ]
  },
  {
   "cell_type": "code",
   "execution_count": 25,
   "metadata": {},
   "outputs": [
    {
     "name": "stdout",
     "output_type": "stream",
     "text": [
      "Wall time: 15.6 ms\n"
     ]
    }
   ],
   "source": [
    "\n",
    "\n",
    "%time review_sentiment = MultinomialNB().fit(reviews_bow_train, reviews_sentiment_train)\n",
    "\n"
   ]
  },
  {
   "cell_type": "code",
   "execution_count": 26,
   "metadata": {},
   "outputs": [
    {
     "name": "stdout",
     "output_type": "stream",
     "text": [
      "predicted: not\n",
      "expected: not\n"
     ]
    }
   ],
   "source": [
    "\n",
    "\n",
    "print('predicted:', review_sentiment.predict(bow4)[0])\n",
    "print('expected:', reviews.Celiac_Not[151])\n",
    "\n"
   ]
  },
  {
   "cell_type": "code",
   "execution_count": 27,
   "metadata": {},
   "outputs": [
    {
     "name": "stdout",
     "output_type": "stream",
     "text": [
      "['not' 'not' 'not' 'not' 'not' 'not' 'not' 'not' 'not' 'not' 'not' 'not'\n",
      " 'not' 'not' 'not' 'not' 'not' 'not' 'not' 'not' 'celiac' 'not' 'not'\n",
      " 'not' 'not' 'not' 'not' 'not' 'not' 'not' 'not' 'not' 'celiac' 'not'\n",
      " 'not' 'not' 'not' 'not' 'not' 'not' 'not' 'celiac' 'not' 'not' 'not'\n",
      " 'not' 'not' 'celiac' 'not' 'not' 'not' 'not' 'not' 'not' 'not' 'not'\n",
      " 'not' 'not' 'not' 'not' 'celiac' 'not' 'not' 'not' 'not' 'not' 'not'\n",
      " 'not' 'not' 'not' 'not' 'not' 'not' 'not' 'celiac' 'not' 'not' 'not'\n",
      " 'celiac' 'not' 'not' 'not' 'not' 'not' 'not' 'not' 'not' 'not' 'not'\n",
      " 'not' 'not' 'not' 'not' 'not' 'not' 'not' 'not' 'not' 'not' 'celiac'\n",
      " 'not' 'not' 'not' 'not' 'not' 'not' 'not']\n"
     ]
    }
   ],
   "source": [
    "\n",
    "\n",
    "predictions = review_sentiment.predict(reviews_bow_test)\n",
    "print(predictions)\n",
    "\n"
   ]
  },
  {
   "cell_type": "code",
   "execution_count": 28,
   "metadata": {},
   "outputs": [
    {
     "name": "stdout",
     "output_type": "stream",
     "text": [
      "accuracy 0.8878504672897196\n",
      "confusion matrix\n",
      " [[ 1  5]\n",
      " [ 7 94]]\n",
      "(row=expected, col=predicted)\n"
     ]
    }
   ],
   "source": [
    "print('accuracy', accuracy_score(reviews_sentiment_test, predictions))\n",
    "print('confusion matrix\\n', confusion_matrix(reviews_sentiment_test, predictions))\n",
    "print('(row=expected, col=predicted)')"
   ]
  },
  {
   "cell_type": "code",
   "execution_count": 29,
   "metadata": {},
   "outputs": [
    {
     "name": "stdout",
     "output_type": "stream",
     "text": [
      "              precision    recall  f1-score   support\n",
      "\n",
      "      celiac       0.12      0.17      0.14         6\n",
      "         not       0.95      0.93      0.94       101\n",
      "\n",
      "    accuracy                           0.89       107\n",
      "   macro avg       0.54      0.55      0.54       107\n",
      "weighted avg       0.90      0.89      0.90       107\n",
      "\n"
     ]
    }
   ],
   "source": [
    "print(classification_report(reviews_sentiment_test, predictions))\n",
    "#The F1 score can be interpreted as a weighted average of the precision and recall, \n",
    "#where an F1 score reaches its best value at 1 and worst score at 0."
   ]
  },
  {
   "cell_type": "code",
   "execution_count": 30,
   "metadata": {},
   "outputs": [],
   "source": [
    "def predict_review(new_review): \n",
    "    new_sample = bow_transformer.transform([new_review])\n",
    "    print(new_review, '\\nThe respective order new or pro probabilities:\\n',np.around(review_sentiment.predict_proba(new_sample), decimals=2),'\\n')"
   ]
  },
  {
   "cell_type": "markdown",
   "metadata": {},
   "source": [
    "## The probabilities of being Celiac Disease or not are in alphabetical order for [Celiac Disease, Not]"
   ]
  },
  {
   "cell_type": "code",
   "execution_count": 32,
   "metadata": {},
   "outputs": [
    {
     "name": "stdout",
     "output_type": "stream",
     "text": [
      "driving to the hospital. \n",
      "The respective order new or pro probabilities:\n",
      " [[0.07 0.93]] \n",
      "\n",
      "stomach aches. \n",
      "The respective order new or pro probabilities:\n",
      " [[0.11 0.89]] \n",
      "\n",
      "gluten. \n",
      "The respective order new or pro probabilities:\n",
      " [[0.58 0.42]] \n",
      "\n",
      "bring home some coffee. \n",
      "The respective order new or pro probabilities:\n",
      " [[0.16 0.84]] \n",
      "\n",
      "carbs galore \n",
      "The respective order new or pro probabilities:\n",
      " [[0.38 0.62]] \n",
      "\n"
     ]
    }
   ],
   "source": [
    "predict_review('driving to the hospital.')\n",
    "\n",
    "predict_review('stomach aches.')\n",
    "\n",
    "predict_review('gluten.')\n",
    "predict_review('bring home some coffee.')\n",
    "#a snippet of an actual tweet from RA\n",
    "predict_review('carbs galore')"
   ]
  },
  {
   "cell_type": "code",
   "execution_count": null,
   "metadata": {},
   "outputs": [],
   "source": []
  }
 ],
 "metadata": {
  "kernelspec": {
   "display_name": "Python 3",
   "language": "python",
   "name": "python3"
  },
  "language_info": {
   "codemirror_mode": {
    "name": "ipython",
    "version": 3
   },
   "file_extension": ".py",
   "mimetype": "text/x-python",
   "name": "python",
   "nbconvert_exporter": "python",
   "pygments_lexer": "ipython3",
   "version": "3.6.9"
  }
 },
 "nbformat": 4,
 "nbformat_minor": 2
}
