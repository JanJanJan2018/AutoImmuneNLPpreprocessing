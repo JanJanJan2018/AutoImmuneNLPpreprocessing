{
 "cells": [
  {
   "cell_type": "markdown",
   "metadata": {},
   "source": [
    "## Autoimmune Tweets using Lemmatized Tweets with 8 categories of autoimmune diseases\n",
    "Those being: \n",
    "1:Multiple Sclerosis, 2:Celiac, 3: Leukemia, 4: Hashimoto, 5: Fibromyalgia, 6: Kidney Disease, 7: Rheumatoid Arthritis, 8: Chron's Disease"
   ]
  },
  {
   "cell_type": "markdown",
   "metadata": {},
   "source": [
    "Tweets were taken from respective diseases in early December 2019 from 13 to 119 \n",
    "tweets for each disease, as many as were found that weren't mostly marketing, using ''<disease> treatment' in the search"
   ]
  },
  {
   "cell_type": "code",
   "execution_count": 41,
   "metadata": {},
   "outputs": [],
   "source": [
    "%matplotlib inline \n",
    "import pandas as pd \n",
    "import matplotlib.pyplot as plt \n",
    "from textblob import TextBlob \n",
    "import sklearn \n",
    "import numpy as np \n",
    "from sklearn.feature_extraction.text import CountVectorizer \n",
    "from sklearn.naive_bayes import MultinomialNB \n",
    "from sklearn.metrics import classification_report, f1_score, accuracy_score, confusion_matrix \n",
    " \n",
    "np.random.seed(507) \n",
    " \n"
   ]
  },
  {
   "cell_type": "code",
   "execution_count": 42,
   "metadata": {},
   "outputs": [],
   "source": [
    "reviews = pd.read_csv('TargetReady.csv', encoding = 'unicode_escape') \n",
    "#the encoding needed for python3 handling nonASCII chars\n"
   ]
  },
  {
   "cell_type": "code",
   "execution_count": 43,
   "metadata": {},
   "outputs": [
    {
     "data": {
      "text/html": [
       "<div>\n",
       "<style scoped>\n",
       "    .dataframe tbody tr th:only-of-type {\n",
       "        vertical-align: middle;\n",
       "    }\n",
       "\n",
       "    .dataframe tbody tr th {\n",
       "        vertical-align: top;\n",
       "    }\n",
       "\n",
       "    .dataframe thead th {\n",
       "        text-align: right;\n",
       "    }\n",
       "</style>\n",
       "<table border=\"1\" class=\"dataframe\">\n",
       "  <thead>\n",
       "    <tr style=\"text-align: right;\">\n",
       "      <th></th>\n",
       "      <th>Tweet</th>\n",
       "      <th>Type</th>\n",
       "    </tr>\n",
       "  </thead>\n",
       "  <tbody>\n",
       "    <tr>\n",
       "      <td>0</td>\n",
       "      <td>UNKNOWNResearchCa\\r\\n@UNKNOWN_ARC\\r\\n·\\r\\n19h\\...</td>\n",
       "      <td>Rheumatoid Arthritis</td>\n",
       "    </tr>\n",
       "    <tr>\n",
       "      <td>1</td>\n",
       "      <td>UNKNOWNatology Advisor\\r\\n@UNKNOWNAdvisor\\r\\n·...</td>\n",
       "      <td>Rheumatoid Arthritis</td>\n",
       "    </tr>\n",
       "    <tr>\n",
       "      <td>2</td>\n",
       "      <td>UNKNOWN Community\\r\\n@our_UNKNOWN\\r\\n·\\r\\nDec ...</td>\n",
       "      <td>Rheumatoid Arthritis</td>\n",
       "    </tr>\n",
       "    <tr>\n",
       "      <td>3</td>\n",
       "      <td>UNKNOWN National Research Foundation\\r\\n@CureU...</td>\n",
       "      <td>Rheumatoid Arthritis</td>\n",
       "    </tr>\n",
       "    <tr>\n",
       "      <td>4</td>\n",
       "      <td>Orthopedic News\\r\\n@Orthopedics_Bio\\r\\n·\\r\\nDe...</td>\n",
       "      <td>Rheumatoid Arthritis</td>\n",
       "    </tr>\n",
       "  </tbody>\n",
       "</table>\n",
       "</div>"
      ],
      "text/plain": [
       "                                               Tweet                  Type\n",
       "0  UNKNOWNResearchCa\\r\\n@UNKNOWN_ARC\\r\\n·\\r\\n19h\\...  Rheumatoid Arthritis\n",
       "1  UNKNOWNatology Advisor\\r\\n@UNKNOWNAdvisor\\r\\n·...  Rheumatoid Arthritis\n",
       "2  UNKNOWN Community\\r\\n@our_UNKNOWN\\r\\n·\\r\\nDec ...  Rheumatoid Arthritis\n",
       "3  UNKNOWN National Research Foundation\\r\\n@CureU...  Rheumatoid Arthritis\n",
       "4  Orthopedic News\\r\\n@Orthopedics_Bio\\r\\n·\\r\\nDe...  Rheumatoid Arthritis"
      ]
     },
     "execution_count": 43,
     "metadata": {},
     "output_type": "execute_result"
    }
   ],
   "source": [
    "reviews.head()\n"
   ]
  },
  {
   "cell_type": "code",
   "execution_count": 44,
   "metadata": {},
   "outputs": [
    {
     "data": {
      "text/html": [
       "<div>\n",
       "<style scoped>\n",
       "    .dataframe tbody tr th:only-of-type {\n",
       "        vertical-align: middle;\n",
       "    }\n",
       "\n",
       "    .dataframe tbody tr th {\n",
       "        vertical-align: top;\n",
       "    }\n",
       "\n",
       "    .dataframe thead th {\n",
       "        text-align: right;\n",
       "    }\n",
       "</style>\n",
       "<table border=\"1\" class=\"dataframe\">\n",
       "  <thead>\n",
       "    <tr style=\"text-align: right;\">\n",
       "      <th></th>\n",
       "      <th>Tweet</th>\n",
       "      <th>Type</th>\n",
       "    </tr>\n",
       "  </thead>\n",
       "  <tbody>\n",
       "    <tr>\n",
       "      <td>502</td>\n",
       "      <td>All Ezine\\r\\n@allezine\\r\\n·\\r\\nJun 13, 2011\\r\\...</td>\n",
       "      <td>Chron's Disease</td>\n",
       "    </tr>\n",
       "    <tr>\n",
       "      <td>503</td>\n",
       "      <td>Brian Coombes\\r\\n@BrianKCoombes\\r\\n·\\r\\nSep 6\\...</td>\n",
       "      <td>Chron's Disease</td>\n",
       "    </tr>\n",
       "    <tr>\n",
       "      <td>504</td>\n",
       "      <td>Purpose ?\\r\\n@HappyBelieber\\r\\n·\\r\\nJan 19, 20...</td>\n",
       "      <td>Chron's Disease</td>\n",
       "    </tr>\n",
       "    <tr>\n",
       "      <td>505</td>\n",
       "      <td>K. Ketels-Lichtig\\r\\n@kklichtig\\r\\n·\\r\\nOct 25...</td>\n",
       "      <td>Chron's Disease</td>\n",
       "    </tr>\n",
       "    <tr>\n",
       "      <td>506</td>\n",
       "      <td>-DC-\\r\\n @FuckwitdaDC\\r\\n·\\r\\nJul 8, 2015\\r\\...</td>\n",
       "      <td>Chron's Disease</td>\n",
       "    </tr>\n",
       "  </tbody>\n",
       "</table>\n",
       "</div>"
      ],
      "text/plain": [
       "                                                 Tweet             Type\n",
       "502  All Ezine\\r\\n@allezine\\r\\n·\\r\\nJun 13, 2011\\r\\...  Chron's Disease\n",
       "503  Brian Coombes\\r\\n@BrianKCoombes\\r\\n·\\r\\nSep 6\\...  Chron's Disease\n",
       "504  Purpose ?\\r\\n@HappyBelieber\\r\\n·\\r\\nJan 19, 20...  Chron's Disease\n",
       "505  K. Ketels-Lichtig\\r\\n@kklichtig\\r\\n·\\r\\nOct 25...  Chron's Disease\n",
       "506   -DC-\\r\\n @FuckwitdaDC\\r\\n·\\r\\nJul 8, 2015\\r\\...  Chron's Disease"
      ]
     },
     "execution_count": 44,
     "metadata": {},
     "output_type": "execute_result"
    }
   ],
   "source": [
    "reviews.tail()"
   ]
  },
  {
   "cell_type": "code",
   "execution_count": 45,
   "metadata": {},
   "outputs": [
    {
     "data": {
      "text/plain": [
       "(507, 2)"
      ]
     },
     "execution_count": 45,
     "metadata": {},
     "output_type": "execute_result"
    }
   ],
   "source": [
    "reviews.shape"
   ]
  },
  {
   "cell_type": "code",
   "execution_count": 46,
   "metadata": {},
   "outputs": [
    {
     "name": "stdout",
     "output_type": "stream",
     "text": [
      "                                                 Tweet                Type\n",
      "288  Aleksandar dr Petrov\\r\\n@aleksandar_BG\\r\\n·\\r\\...  Multiple Sclerosis\n",
      "70   Beyond UNKNOWN\\r\\n@BeyondUNKNOWN\\r\\n·\\r\\nSep 1...      Celiac Disease\n",
      "184  #HandsOffVenezuela\\r\\n@ChicoFreedom\\r\\n·\\r\\nDe...            Leukemia\n",
      "459  Adult & Pediatric Ear, Nose & Throat\\r\\n@EarAd...   Hashimoto Disease\n",
      "448  Angela J. White\\r\\n@50Plushealths\\r\\n·\\r\\nDec ...        Fibromyalgia\n",
      "                                                 Tweet                Type\n",
      "136  CURE Magazine\\r\\n@cure_magazine\\r\\n·\\r\\nDec 3\\...            Leukemia\n",
      "503  Brian Coombes\\r\\n@BrianKCoombes\\r\\n·\\r\\nSep 6\\...     Chron's Disease\n",
      "295  Glynis Edwards\\r\\n@Glynis4B12\\r\\n·\\r\\nNov 26\\r...  Multiple Sclerosis\n",
      "452  Mavz\\r\\n@mattymavz\\r\\n·\\r\\nNov 5, 2018\\r\\nIt's...        Fibromyalgia\n",
      "112  GrupoCronosSEFH\\r\\n@GRUPOCRONOSSEF1\\r\\n·\\r\\nDe...      Kidney Disease\n"
     ]
    }
   ],
   "source": [
    "reviews = reviews.reindex(np.random.permutation(reviews.index))\n",
    "\n",
    "print(reviews.head())\n",
    "print(reviews.tail())"
   ]
  },
  {
   "cell_type": "code",
   "execution_count": 47,
   "metadata": {},
   "outputs": [
    {
     "data": {
      "text/html": [
       "<div>\n",
       "<style scoped>\n",
       "    .dataframe tbody tr th:only-of-type {\n",
       "        vertical-align: middle;\n",
       "    }\n",
       "\n",
       "    .dataframe tbody tr th {\n",
       "        vertical-align: top;\n",
       "    }\n",
       "\n",
       "    .dataframe thead tr th {\n",
       "        text-align: left;\n",
       "    }\n",
       "\n",
       "    .dataframe thead tr:last-of-type th {\n",
       "        text-align: right;\n",
       "    }\n",
       "</style>\n",
       "<table border=\"1\" class=\"dataframe\">\n",
       "  <thead>\n",
       "    <tr>\n",
       "      <th></th>\n",
       "      <th colspan=\"4\" halign=\"left\">Tweet</th>\n",
       "    </tr>\n",
       "    <tr>\n",
       "      <th></th>\n",
       "      <th>count</th>\n",
       "      <th>unique</th>\n",
       "      <th>top</th>\n",
       "      <th>freq</th>\n",
       "    </tr>\n",
       "    <tr>\n",
       "      <th>Type</th>\n",
       "      <th></th>\n",
       "      <th></th>\n",
       "      <th></th>\n",
       "      <th></th>\n",
       "    </tr>\n",
       "  </thead>\n",
       "  <tbody>\n",
       "    <tr>\n",
       "      <td>Celiac Disease</td>\n",
       "      <td>50</td>\n",
       "      <td>50</td>\n",
       "      <td>?????????? ????????\\r\\n?\\r\\n??\\r\\n@ventforbats...</td>\n",
       "      <td>1</td>\n",
       "    </tr>\n",
       "    <tr>\n",
       "      <td>Chron's Disease</td>\n",
       "      <td>19</td>\n",
       "      <td>19</td>\n",
       "      <td>Purpose ?\\r\\n@HappyBelieber\\r\\n·\\r\\nJan 19, 20...</td>\n",
       "      <td>1</td>\n",
       "    </tr>\n",
       "    <tr>\n",
       "      <td>Fibromyalgia</td>\n",
       "      <td>99</td>\n",
       "      <td>96</td>\n",
       "      <td>Chronic Disease Coalition\\r\\n@ChronicRights\\r\\...</td>\n",
       "      <td>2</td>\n",
       "    </tr>\n",
       "    <tr>\n",
       "      <td>Hashimoto Disease</td>\n",
       "      <td>30</td>\n",
       "      <td>29</td>\n",
       "      <td>Colorado Natural Med\\r\\n@drgravesCO\\r\\n·\\r\\nDe...</td>\n",
       "      <td>2</td>\n",
       "    </tr>\n",
       "    <tr>\n",
       "      <td>Kidney Disease</td>\n",
       "      <td>43</td>\n",
       "      <td>43</td>\n",
       "      <td>Lupus Foundation of America\\r\\n@LupusOrg\\r\\n·\\...</td>\n",
       "      <td>1</td>\n",
       "    </tr>\n",
       "    <tr>\n",
       "      <td>Leukemia</td>\n",
       "      <td>119</td>\n",
       "      <td>119</td>\n",
       "      <td>Abi\\r\\n@brokenleadheart\\r\\n·\\r\\nDec 3\\r\\nReply...</td>\n",
       "      <td>1</td>\n",
       "    </tr>\n",
       "    <tr>\n",
       "      <td>Multiple Sclerosis</td>\n",
       "      <td>119</td>\n",
       "      <td>119</td>\n",
       "      <td>Fiona Walsh\\r\\n@iamfionawalsh\\r\\n·\\r\\nDec 1\\r\\...</td>\n",
       "      <td>1</td>\n",
       "    </tr>\n",
       "    <tr>\n",
       "      <td>Rheumatoid Arthritis</td>\n",
       "      <td>28</td>\n",
       "      <td>28</td>\n",
       "      <td>INDHEAL\\r\\n@indheal\\r\\n·\\r\\nOct 29\\r\\nUNKNOWN ...</td>\n",
       "      <td>1</td>\n",
       "    </tr>\n",
       "  </tbody>\n",
       "</table>\n",
       "</div>"
      ],
      "text/plain": [
       "                     Tweet         \\\n",
       "                     count unique   \n",
       "Type                                \n",
       "Celiac Disease          50     50   \n",
       "Chron's Disease         19     19   \n",
       "Fibromyalgia            99     96   \n",
       "Hashimoto Disease       30     29   \n",
       "Kidney Disease          43     43   \n",
       "Leukemia               119    119   \n",
       "Multiple Sclerosis     119    119   \n",
       "Rheumatoid Arthritis    28     28   \n",
       "\n",
       "                                                                              \n",
       "                                                                    top freq  \n",
       "Type                                                                          \n",
       "Celiac Disease        ?????????? ????????\\r\\n?\\r\\n??\\r\\n@ventforbats...    1  \n",
       "Chron's Disease       Purpose ?\\r\\n@HappyBelieber\\r\\n·\\r\\nJan 19, 20...    1  \n",
       "Fibromyalgia          Chronic Disease Coalition\\r\\n@ChronicRights\\r\\...    2  \n",
       "Hashimoto Disease     Colorado Natural Med\\r\\n@drgravesCO\\r\\n·\\r\\nDe...    2  \n",
       "Kidney Disease        Lupus Foundation of America\\r\\n@LupusOrg\\r\\n·\\...    1  \n",
       "Leukemia              Abi\\r\\n@brokenleadheart\\r\\n·\\r\\nDec 3\\r\\nReply...    1  \n",
       "Multiple Sclerosis    Fiona Walsh\\r\\n@iamfionawalsh\\r\\n·\\r\\nDec 1\\r\\...    1  \n",
       "Rheumatoid Arthritis  INDHEAL\\r\\n@indheal\\r\\n·\\r\\nOct 29\\r\\nUNKNOWN ...    1  "
      ]
     },
     "execution_count": 47,
     "metadata": {},
     "output_type": "execute_result"
    }
   ],
   "source": [
    "\n",
    "\n",
    "reviews.groupby('Type').describe()\n",
    "\n"
   ]
  },
  {
   "cell_type": "code",
   "execution_count": 48,
   "metadata": {},
   "outputs": [
    {
     "name": "stdout",
     "output_type": "stream",
     "text": [
      "                                                 Tweet                Type  \\\n",
      "288  Aleksandar dr Petrov\\r\\n@aleksandar_BG\\r\\n·\\r\\...  Multiple Sclerosis   \n",
      "70   Beyond UNKNOWN\\r\\n@BeyondUNKNOWN\\r\\n·\\r\\nSep 1...      Celiac Disease   \n",
      "184  #HandsOffVenezuela\\r\\n@ChicoFreedom\\r\\n·\\r\\nDe...            Leukemia   \n",
      "459  Adult & Pediatric Ear, Nose & Throat\\r\\n@EarAd...   Hashimoto Disease   \n",
      "448  Angela J. White\\r\\n@50Plushealths\\r\\n·\\r\\nDec ...        Fibromyalgia   \n",
      "\n",
      "     length  \n",
      "288     281  \n",
      "70      247  \n",
      "184     317  \n",
      "459     142  \n",
      "448     255  \n"
     ]
    }
   ],
   "source": [
    "\n",
    "\n",
    "reviews['length'] = reviews['Tweet'].map(lambda text: len(text))\n",
    "print(reviews.head())\n",
    "\n"
   ]
  },
  {
   "cell_type": "code",
   "execution_count": 49,
   "metadata": {},
   "outputs": [
    {
     "data": {
      "text/plain": [
       "<matplotlib.axes._subplots.AxesSubplot at 0x299f272aef0>"
      ]
     },
     "execution_count": 49,
     "metadata": {},
     "output_type": "execute_result"
    },
    {
     "data": {
      "image/png": "[encoded data removed]",
      "text/plain": [
       "<Figure size 432x288 with 1 Axes>"
      ]
     },
     "metadata": {
      "needs_background": "light"
     },
     "output_type": "display_data"
    }
   ],
   "source": [
    "reviews.length.plot(bins=20, kind='hist') "
   ]
  },
  {
   "cell_type": "code",
   "execution_count": 50,
   "metadata": {},
   "outputs": [
    {
     "data": {
      "text/plain": [
       "count    507.000000\n",
       "mean     276.532544\n",
       "std      104.546869\n",
       "min       87.000000\n",
       "25%      201.500000\n",
       "50%      279.000000\n",
       "75%      320.000000\n",
       "max      847.000000\n",
       "Name: length, dtype: float64"
      ]
     },
     "execution_count": 50,
     "metadata": {},
     "output_type": "execute_result"
    }
   ],
   "source": [
    "reviews.length.describe()"
   ]
  },
  {
   "cell_type": "code",
   "execution_count": 51,
   "metadata": {},
   "outputs": [
    {
     "name": "stdout",
     "output_type": "stream",
     "text": [
      "[151]\n",
      "['Leukemia']\n"
     ]
    }
   ],
   "source": [
    "print(list(reviews.Tweet[reviews.length > 700].index)) #near the max for length of LemmatizedTweets\n",
    "print(list(reviews.Type[reviews.length > 700]))"
   ]
  },
  {
   "cell_type": "code",
   "execution_count": 53,
   "metadata": {},
   "outputs": [
    {
     "name": "stdout",
     "output_type": "stream",
     "text": [
      "Wall time: 563 ms\n"
     ]
    },
    {
     "data": {
      "text/plain": [
       "array([[<matplotlib.axes._subplots.AxesSubplot object at 0x00000299F2795240>,\n",
       "        <matplotlib.axes._subplots.AxesSubplot object at 0x00000299F286E128>,\n",
       "        <matplotlib.axes._subplots.AxesSubplot object at 0x00000299F289A748>],\n",
       "       [<matplotlib.axes._subplots.AxesSubplot object at 0x00000299F28CAC88>,\n",
       "        <matplotlib.axes._subplots.AxesSubplot object at 0x00000299F2905278>,\n",
       "        <matplotlib.axes._subplots.AxesSubplot object at 0x00000299F2933828>],\n",
       "       [<matplotlib.axes._subplots.AxesSubplot object at 0x00000299EBA61470>,\n",
       "        <matplotlib.axes._subplots.AxesSubplot object at 0x00000299F2987F98>,\n",
       "        <matplotlib.axes._subplots.AxesSubplot object at 0x00000299F2987FD0>]],\n",
       "      dtype=object)"
      ]
     },
     "execution_count": 53,
     "metadata": {},
     "output_type": "execute_result"
    },
    {
     "data": {
      "image/png": "[encoded data removed]",
      "text/plain": [
       "<Figure size 432x288 with 9 Axes>"
      ]
     },
     "metadata": {
      "needs_background": "light"
     },
     "output_type": "display_data"
    }
   ],
   "source": [
    "%%time\n",
    "reviews.hist(column='length', by='Type', bins=10)"
   ]
  },
  {
   "cell_type": "code",
   "execution_count": 54,
   "metadata": {},
   "outputs": [],
   "source": [
    "def split_into_tokens(review):\n",
    "    \n",
    "    #review = unicode(review, 'iso-8859-1')# in python 3 the default of str() previously python2 as unicode() is utf-8\n",
    "    return TextBlob(review).words"
   ]
  },
  {
   "cell_type": "code",
   "execution_count": 55,
   "metadata": {},
   "outputs": [
    {
     "data": {
      "text/plain": [
       "288    [Aleksandar, dr, Petrov, aleksandar_BG, ·, Dec...\n",
       "70     [Beyond, UNKNOWN, BeyondUNKNOWN, ·, Sep, 17, 2...\n",
       "184    [HandsOffVenezuela, ChicoFreedom, ·, Dec, 2, o...\n",
       "459    [Adult, Pediatric, Ear, Nose, Throat, EarAdult...\n",
       "448    [Angela, J, White, 50Plushealths, ·, Dec, 15, ...\n",
       "Name: Tweet, dtype: object"
      ]
     },
     "execution_count": 55,
     "metadata": {},
     "output_type": "execute_result"
    }
   ],
   "source": [
    "\n",
    "\n",
    "reviews.Tweet.head().apply(split_into_tokens)\n",
    "\n"
   ]
  },
  {
   "cell_type": "code",
   "execution_count": 56,
   "metadata": {},
   "outputs": [
    {
     "data": {
      "text/plain": [
       "[('hello', 'JJ'),\n",
       " ('world', 'NN'),\n",
       " ('how', 'WRB'),\n",
       " ('is', 'VBZ'),\n",
       " ('it', 'PRP'),\n",
       " ('going', 'VBG')]"
      ]
     },
     "execution_count": 56,
     "metadata": {},
     "output_type": "execute_result"
    }
   ],
   "source": [
    "TextBlob(\"hello world, how is it going?\").tags"
   ]
  },
  {
   "cell_type": "code",
   "execution_count": 57,
   "metadata": {},
   "outputs": [
    {
     "name": "stderr",
     "output_type": "stream",
     "text": [
      "[nltk_data] Downloading package stopwords to\n",
      "[nltk_data]     C:\\Users\\m\\AppData\\Roaming\\nltk_data...\n",
      "[nltk_data]   Package stopwords is already up-to-date!\n"
     ]
    },
    {
     "data": {
      "text/plain": [
       "True"
      ]
     },
     "execution_count": 57,
     "metadata": {},
     "output_type": "execute_result"
    }
   ],
   "source": [
    "\n",
    "\n",
    "import nltk\n",
    "nltk.download('stopwords')\n",
    "\n"
   ]
  },
  {
   "cell_type": "code",
   "execution_count": 58,
   "metadata": {},
   "outputs": [],
   "source": [
    "from nltk.corpus import stopwords\n",
    "\n",
    "stop = stopwords.words('english')\n",
    "stop = stop + [u'a',u'b',u'c',u'd',u'e',u'f',u'g',u'h',u'i',u'j',u'k',u'l',u'm',u'n',u'o',u'p',u'q',u'r',u's',u't',u'v',u'w',u'x',u'y',u'z']"
   ]
  },
  {
   "cell_type": "code",
   "execution_count": 64,
   "metadata": {},
   "outputs": [
    {
     "data": {
      "text/plain": [
       "288    [aleksandar, dr, petrov, aleksandar_bg, ·, dec...\n",
       "70     [beyond, unknown, beyondunknown, ·, sep, 17, 2...\n",
       "184    [handsoffvenezuela, chicofreedom, ·, dec, 2, o...\n",
       "459    [adult, pediatric, ear, nose, throat, earadult...\n",
       "448    [angela, white, 50plushealths, ·, dec, 15, 201...\n",
       "Name: Tweet, dtype: object"
      ]
     },
     "execution_count": 64,
     "metadata": {},
     "output_type": "execute_result"
    }
   ],
   "source": [
    "def split_into_lemmas(review):\n",
    "    #review = unicode(review, 'iso-8859-1')\n",
    "    review = review.lower()\n",
    "    #review = unicode(review, 'utf8').lower()\n",
    "    #review = str(review).lower()\n",
    "    words = TextBlob(review).words\n",
    "    # for each word, take its \"base form\" = lemma \n",
    "    return [word.lemma for word in words if word not in stop]\n",
    "\n",
    "reviews.Tweet.head().apply(split_into_lemmas)"
   ]
  },
  {
   "cell_type": "code",
   "execution_count": 65,
   "metadata": {},
   "outputs": [
    {
     "name": "stdout",
     "output_type": "stream",
     "text": [
      "12\n",
      "Wall time: 234 ms\n"
     ]
    }
   ],
   "source": [
    "\n",
    "\n",
    "%%time\n",
    "bow_transformer = CountVectorizer(analyzer=split_into_lemmas, ngram_range=(2,2)).fit(reviews['Type'])\n",
    "print(len(bow_transformer.vocabulary_))\n",
    "\n"
   ]
  },
  {
   "cell_type": "code",
   "execution_count": 66,
   "metadata": {},
   "outputs": [
    {
     "data": {
      "text/plain": [
       "CountVectorizer(analyzer=<function split_into_lemmas at 0x00000299F2B30D90>,\n",
       "                binary=False, decode_error='strict',\n",
       "                dtype=<class 'numpy.int64'>, encoding='utf-8', input='content',\n",
       "                lowercase=True, max_df=1.0, max_features=None, min_df=1,\n",
       "                ngram_range=(2, 2), preprocessor=None, stop_words=None,\n",
       "                strip_accents=None, token_pattern='(?u)\\\\b\\\\w\\\\w+\\\\b',\n",
       "                tokenizer=None, vocabulary=None)"
      ]
     },
     "execution_count": 66,
     "metadata": {},
     "output_type": "execute_result"
    }
   ],
   "source": [
    "bow_transformer"
   ]
  },
  {
   "cell_type": "code",
   "execution_count": 67,
   "metadata": {},
   "outputs": [
    {
     "name": "stdout",
     "output_type": "stream",
     "text": [
      "BTS Mauritius\r\n",
      "@BTSMauritius\r\n",
      "·\r\n",
      "19h\r\n",
      "The Korea Leukemia Childrens Foundation announced that 553 ARMYs donated blood in honour of @BTS_twt\r\n",
      "s Jin birthday!\r\n",
      "\r\n",
      "Itll be used for children with cancer who need to receive large blood transfusions during treatment, helping to ease the burden of costs for patients families.\r\n",
      "Quote Tweet\r\n",
      "??????\r\n",
      "??\r\n",
      "??\r\n",
      "@_nojam_nolife\r\n",
      " · Dec 3\r\n",
      "????? ? ??, ?? ?? ??? ??(??)  \r\n",
      "??\r\n",
      "http://entertain.v.daum.net/v/20191204091525391\r\n",
      "\r\n",
      "#????? #BTS @BTS_twt \r\n",
      "\r\n",
      "??????????? ?????? ????? ? ????? ?? ?? ??? 12? 4? ????? ?? ???? ?? ??? ???? ??? 553?? ????? ???.\r\n",
      "Image\r\n",
      "Image\r\n",
      "Image\r\n",
      "Image\r\n",
      "Imprisoned Babies\r\n",
      "@aptlmetin\r\n",
      "·\r\n",
      "Dec 3\r\n",
      "Akif Acute Lymphoblastic Leukemia patient. He is going through a heavy treatment process. He needs medicare. Let mom?enay DA?TAN have her trial without arrest!\r\n",
      "#InternationalDisabilityDay \n"
     ]
    }
   ],
   "source": [
    "review4 = reviews['Tweet'][151]\n",
    "print(review4)"
   ]
  },
  {
   "cell_type": "code",
   "execution_count": 68,
   "metadata": {},
   "outputs": [
    {
     "name": "stdout",
     "output_type": "stream",
     "text": [
      "  (0, 8)\t2\n"
     ]
    }
   ],
   "source": [
    "\n",
    "\n",
    "bow4 = bow_transformer.transform([review4])\n",
    "print(bow4)\n",
    "\n"
   ]
  },
  {
   "cell_type": "code",
   "execution_count": 69,
   "metadata": {},
   "outputs": [
    {
     "name": "stdout",
     "output_type": "stream",
     "text": [
      "sparse matrix shape: (507, 12)\n",
      "number of non-zeros: 412\n",
      "sparsity: 6.77%\n",
      "Wall time: 1.05 s\n"
     ]
    }
   ],
   "source": [
    "%%time\n",
    "reviews_bow = bow_transformer.transform(reviews['Tweet'])\n",
    "print('sparse matrix shape:', reviews_bow.shape)\n",
    "print('number of non-zeros:', reviews_bow.nnz)\n",
    "print('sparsity: %.2f%%' % (100.0 * reviews_bow.nnz / (reviews_bow.shape[0] * reviews_bow.shape[1])))"
   ]
  },
  {
   "cell_type": "code",
   "execution_count": 70,
   "metadata": {},
   "outputs": [
    {
     "name": "stdout",
     "output_type": "stream",
     "text": [
      "(400, 12)\n",
      "(107, 12)\n"
     ]
    }
   ],
   "source": [
    "\n",
    "\n",
    "# Split/splice into training ~ 80% and testing ~ 20%\n",
    "reviews_bow_train = reviews_bow[:400]\n",
    "reviews_bow_test = reviews_bow[400:]\n",
    "reviews_sentiment_train = reviews['Type'][:400]\n",
    "reviews_sentiment_test = reviews['Type'][400:]\n",
    "\n",
    "print(reviews_bow_train.shape)\n",
    "print(reviews_bow_test.shape)\n",
    "\n"
   ]
  },
  {
   "cell_type": "code",
   "execution_count": 71,
   "metadata": {},
   "outputs": [
    {
     "name": "stdout",
     "output_type": "stream",
     "text": [
      "Wall time: 0 ns\n"
     ]
    }
   ],
   "source": [
    "\n",
    "\n",
    "%time review_sentiment = MultinomialNB().fit(reviews_bow_train, reviews_sentiment_train)\n",
    "\n"
   ]
  },
  {
   "cell_type": "code",
   "execution_count": 72,
   "metadata": {},
   "outputs": [
    {
     "name": "stdout",
     "output_type": "stream",
     "text": [
      "predicted: Leukemia\n",
      "expected: Leukemia\n"
     ]
    }
   ],
   "source": [
    "\n",
    "\n",
    "print('predicted:', review_sentiment.predict(bow4)[0])\n",
    "print('expected:', reviews.Type[151])\n",
    "\n"
   ]
  },
  {
   "cell_type": "code",
   "execution_count": 73,
   "metadata": {},
   "outputs": [
    {
     "name": "stdout",
     "output_type": "stream",
     "text": [
      "['Multiple Sclerosis' 'Celiac Disease' 'Leukemia' 'Leukemia' 'Leukemia'\n",
      " 'Multiple Sclerosis' 'Multiple Sclerosis' 'Multiple Sclerosis'\n",
      " 'Multiple Sclerosis' 'Multiple Sclerosis' 'Multiple Sclerosis'\n",
      " 'Fibromyalgia' 'Multiple Sclerosis' 'Multiple Sclerosis' 'Leukemia'\n",
      " 'Celiac Disease' 'Multiple Sclerosis' 'Multiple Sclerosis'\n",
      " 'Multiple Sclerosis' 'Multiple Sclerosis' 'Leukemia' 'Celiac Disease'\n",
      " 'Multiple Sclerosis' 'Multiple Sclerosis' 'Multiple Sclerosis'\n",
      " 'Multiple Sclerosis' 'Multiple Sclerosis' 'Multiple Sclerosis'\n",
      " 'Hashimoto Disease' 'Multiple Sclerosis' 'Fibromyalgia'\n",
      " 'Multiple Sclerosis' 'Celiac Disease' 'Multiple Sclerosis'\n",
      " 'Multiple Sclerosis' 'Leukemia' 'Leukemia' 'Leukemia' 'Leukemia'\n",
      " 'Multiple Sclerosis' 'Multiple Sclerosis' 'Multiple Sclerosis'\n",
      " 'Multiple Sclerosis' 'Leukemia' 'Celiac Disease' 'Leukemia'\n",
      " 'Multiple Sclerosis' 'Leukemia' 'Leukemia' 'Celiac Disease' 'Leukemia'\n",
      " 'Multiple Sclerosis' 'Multiple Sclerosis' 'Multiple Sclerosis'\n",
      " 'Multiple Sclerosis' 'Leukemia' 'Leukemia' 'Celiac Disease'\n",
      " 'Multiple Sclerosis' 'Multiple Sclerosis' 'Leukemia' 'Leukemia'\n",
      " 'Leukemia' 'Leukemia' 'Celiac Disease' 'Multiple Sclerosis'\n",
      " 'Fibromyalgia' 'Kidney Disease' 'Fibromyalgia' 'Leukemia'\n",
      " 'Celiac Disease' 'Multiple Sclerosis' 'Kidney Disease' 'Celiac Disease'\n",
      " 'Celiac Disease' 'Multiple Sclerosis' 'Multiple Sclerosis' 'Leukemia'\n",
      " 'Multiple Sclerosis' 'Leukemia' 'Multiple Sclerosis' 'Multiple Sclerosis'\n",
      " 'Fibromyalgia' 'Leukemia' 'Leukemia' 'Multiple Sclerosis'\n",
      " 'Celiac Disease' 'Multiple Sclerosis' 'Leukemia' 'Celiac Disease'\n",
      " 'Multiple Sclerosis' 'Multiple Sclerosis' 'Celiac Disease' 'Fibromyalgia'\n",
      " 'Multiple Sclerosis' 'Leukemia' 'Celiac Disease' 'Multiple Sclerosis'\n",
      " 'Multiple Sclerosis' 'Multiple Sclerosis' 'Multiple Sclerosis' 'Leukemia'\n",
      " 'Leukemia' 'Multiple Sclerosis' 'Celiac Disease' 'Fibromyalgia'\n",
      " 'Celiac Disease']\n"
     ]
    }
   ],
   "source": [
    "\n",
    "\n",
    "predictions = review_sentiment.predict(reviews_bow_test)\n",
    "print(predictions)\n",
    "\n"
   ]
  },
  {
   "cell_type": "code",
   "execution_count": 74,
   "metadata": {},
   "outputs": [
    {
     "name": "stdout",
     "output_type": "stream",
     "text": [
      "accuracy 0.5327102803738317\n",
      "confusion matrix\n",
      " [[ 2  0  0  0  1  0  3  0]\n",
      " [ 1  0  0  0  0  0  2  0]\n",
      " [ 0  0  4  1  0  0 18  0]\n",
      " [ 3  0  2  0  1  0  2  0]\n",
      " [ 6  0  0  0  0  0  0  0]\n",
      " [ 0  0  0  0  0 29  0  0]\n",
      " [ 4  0  1  0  0  0 22  0]\n",
      " [ 1  0  0  0  0  0  4  0]]\n",
      "(row=expected, col=predicted)\n"
     ]
    }
   ],
   "source": [
    "print('accuracy', accuracy_score(reviews_sentiment_test, predictions))\n",
    "print('confusion matrix\\n', confusion_matrix(reviews_sentiment_test, predictions))\n",
    "print('(row=expected, col=predicted)')"
   ]
  },
  {
   "cell_type": "code",
   "execution_count": 75,
   "metadata": {},
   "outputs": [
    {
     "name": "stdout",
     "output_type": "stream",
     "text": [
      "                      precision    recall  f1-score   support\n",
      "\n",
      "      Celiac Disease       0.12      0.33      0.17         6\n",
      "     Chron's Disease       0.00      0.00      0.00         3\n",
      "        Fibromyalgia       0.57      0.17      0.27        23\n",
      "   Hashimoto Disease       0.00      0.00      0.00         8\n",
      "      Kidney Disease       0.00      0.00      0.00         6\n",
      "            Leukemia       1.00      1.00      1.00        29\n",
      "  Multiple Sclerosis       0.43      0.81      0.56        27\n",
      "Rheumatoid Arthritis       0.00      0.00      0.00         5\n",
      "\n",
      "            accuracy                           0.53       107\n",
      "           macro avg       0.27      0.29      0.25       107\n",
      "        weighted avg       0.51      0.53      0.48       107\n",
      "\n"
     ]
    },
    {
     "name": "stderr",
     "output_type": "stream",
     "text": [
      "c:\\users\\m\\anaconda2\\envs\\python36\\lib\\site-packages\\sklearn\\metrics\\classification.py:1437: UndefinedMetricWarning: Precision and F-score are ill-defined and being set to 0.0 in labels with no predicted samples.\n",
      "  'precision', 'predicted', average, warn_for)\n"
     ]
    }
   ],
   "source": [
    "print(classification_report(reviews_sentiment_test, predictions))\n",
    "#The F1 score can be interpreted as a weighted average of the precision and recall, \n",
    "#where an F1 score reaches its best value at 1 and worst score at 0."
   ]
  },
  {
   "cell_type": "code",
   "execution_count": 76,
   "metadata": {},
   "outputs": [],
   "source": [
    "def predict_review(new_review): \n",
    "    new_sample = bow_transformer.transform([new_review])\n",
    "    print(new_review, '\\nThe respective order new or pro probabilities:\\n',np.around(review_sentiment.predict_proba(new_sample), decimals=2),'\\n')"
   ]
  },
  {
   "cell_type": "code",
   "execution_count": 77,
   "metadata": {},
   "outputs": [
    {
     "data": {
      "text/plain": [
       "array(['Multiple Sclerosis', 'Celiac Disease', 'Leukemia',\n",
       "       'Hashimoto Disease', 'Fibromyalgia', 'Kidney Disease',\n",
       "       'Rheumatoid Arthritis', \"Chron's Disease\"], dtype=object)"
      ]
     },
     "execution_count": 77,
     "metadata": {},
     "output_type": "execute_result"
    }
   ],
   "source": [
    "\n",
    "\n",
    "reviews.Type.unique()\n",
    "\n"
   ]
  },
  {
   "cell_type": "markdown",
   "metadata": {},
   "source": [
    "# There are eight classes for:\n",
    "\n",
    "1:Multiple Sclerosis, 2:Celiac, 3: Leukemia, 4: Hashimoto, 5: Fibromyalgia, 6: Kidney Disease, 7: Rheumatoid Arthritis, 8: Chron's Disease\n",
    "The respective probabilities correspond to those diseases\n",
    "Below random sentiments were ran to see how well the NLP predictions rank the four figurative tweets."
   ]
  },
  {
   "cell_type": "code",
   "execution_count": 78,
   "metadata": {},
   "outputs": [
    {
     "name": "stdout",
     "output_type": "stream",
     "text": [
      "driving to the hospital. \n",
      "The respective order new or pro probabilities:\n",
      " [[0.11 0.04 0.19 0.06 0.09 0.22 0.23 0.06]] \n",
      "\n",
      "When is lunch? \n",
      "The respective order new or pro probabilities:\n",
      " [[0.11 0.04 0.19 0.06 0.09 0.22 0.23 0.06]] \n",
      "\n",
      "Theme parks are great. \n",
      "The respective order new or pro probabilities:\n",
      " [[0.11 0.04 0.19 0.06 0.09 0.22 0.23 0.06]] \n",
      "\n",
      "Working is great if it pays the bills. \n",
      "The respective order new or pro probabilities:\n",
      " [[0.11 0.04 0.19 0.06 0.09 0.22 0.23 0.06]] \n",
      "\n",
      "Treatment broadspectrum betalactam antibiotics including sulfonamide trimethoprim associated diagnosis. \n",
      "The respective order new or pro probabilities:\n",
      " [[0.11 0.04 0.19 0.06 0.09 0.22 0.23 0.06]] \n",
      "\n"
     ]
    }
   ],
   "source": [
    "predict_review('driving to the hospital.')\n",
    "\n",
    "predict_review('When is lunch?')\n",
    "\n",
    "predict_review('Theme parks are great.')\n",
    "predict_review('Working is great if it pays the bills.')\n",
    "#a snippet of an actual tweet from RA\n",
    "predict_review('Treatment broadspectrum betalactam antibiotics including sulfonamide trimethoprim associated diagnosis.')"
   ]
  },
  {
   "cell_type": "markdown",
   "metadata": {},
   "source": [
    "## In above figurative tweets, the eight classes of autoimmune diseases for this research gave:\n",
    "all as the same probability figures. Not what was expected."
   ]
  },
  {
   "cell_type": "code",
   "execution_count": null,
   "metadata": {},
   "outputs": [],
   "source": []
  }
 ],
 "metadata": {
  "kernelspec": {
   "display_name": "Python 3",
   "language": "python",
   "name": "python3"
  },
  "language_info": {
   "codemirror_mode": {
    "name": "ipython",
    "version": 3
   },
   "file_extension": ".py",
   "mimetype": "text/x-python",
   "name": "python",
   "nbconvert_exporter": "python",
   "pygments_lexer": "ipython3",
   "version": "3.6.9"
  }
 },
 "nbformat": 4,
 "nbformat_minor": 2
}
